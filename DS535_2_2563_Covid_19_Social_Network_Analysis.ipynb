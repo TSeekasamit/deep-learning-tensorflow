{
  "nbformat": 4,
  "nbformat_minor": 0,
  "metadata": {
    "colab": {
      "name": "DS535_2_2563_Covid_19_Social_Network_Analysis.ipynb",
      "provenance": [],
      "collapsed_sections": [],
      "include_colab_link": true
    },
    "kernelspec": {
      "display_name": "Python 3",
      "language": "python",
      "name": "python3"
    },
    "language_info": {
      "codemirror_mode": {
        "name": "ipython",
        "version": 3
      },
      "file_extension": ".py",
      "mimetype": "text/x-python",
      "name": "python",
      "nbconvert_exporter": "python",
      "pygments_lexer": "ipython3",
      "version": "3.8.5"
    }
  },
  "cells": [
    {
      "cell_type": "markdown",
      "metadata": {
        "id": "view-in-github",
        "colab_type": "text"
      },
      "source": [
        "<a href=\"https://colab.research.google.com/github/TSeekasamit/deep-learning-tensorflow/blob/main/DS535_2_2563_Covid_19_Social_Network_Analysis.ipynb\" target=\"_parent\"><img src=\"https://colab.research.google.com/assets/colab-badge.svg\" alt=\"Open In Colab\"/></a>"
      ]
    },
    {
      "cell_type": "code",
      "metadata": {
        "colab": {
          "base_uri": "https://localhost:8080/"
        },
        "id": "WKaAyFdkiLFS",
        "outputId": "9c9ceb91-46b6-4c95-90f6-0ee44de47c60"
      },
      "source": [
        "from google.colab import drive\n",
        "drive.mount('/content/gdrive')"
      ],
      "execution_count": null,
      "outputs": [
        {
          "output_type": "stream",
          "text": [
            "Mounted at /content/gdrive\n"
          ],
          "name": "stdout"
        }
      ]
    },
    {
      "cell_type": "code",
      "metadata": {
        "colab": {
          "base_uri": "https://localhost:8080/",
          "height": 35
        },
        "id": "93bBBtMJjsrd",
        "outputId": "da96e89f-60af-4aec-fc6b-02f68f9d3bf5"
      },
      "source": [
        "import os\n",
        "os.chdir('/content/gdrive/My Drive/Colab Notebooks/SNA')\n",
        "os.getcwd()"
      ],
      "execution_count": null,
      "outputs": [
        {
          "output_type": "execute_result",
          "data": {
            "application/vnd.google.colaboratory.intrinsic+json": {
              "type": "string"
            },
            "text/plain": [
              "'/content/gdrive/My Drive/Colab Notebooks/SNA'"
            ]
          },
          "metadata": {
            "tags": []
          },
          "execution_count": 2
        }
      ]
    },
    {
      "cell_type": "code",
      "metadata": {
        "id": "r1YOma0jj4Xe"
      },
      "source": [
        "!pip install networkx --quiet --upgrade"
      ],
      "execution_count": null,
      "outputs": []
    },
    {
      "cell_type": "code",
      "metadata": {
        "colab": {
          "base_uri": "https://localhost:8080/"
        },
        "id": "jOiBYEB1j-Rx",
        "outputId": "07b943db-73fe-44da-ca14-30cae2dc9c0b"
      },
      "source": [
        "import networkx as nx\n",
        "print(nx.__version__)"
      ],
      "execution_count": null,
      "outputs": [
        {
          "output_type": "stream",
          "text": [
            "2.5\n"
          ],
          "name": "stdout"
        }
      ]
    },
    {
      "cell_type": "code",
      "metadata": {
        "id": "HF7JBub3kHom"
      },
      "source": [
        "import numpy as np\n",
        "import pandas as pd\n",
        "import matplotlib.pyplot as plt\n",
        "%matplotlib inline"
      ],
      "execution_count": null,
      "outputs": []
    },
    {
      "cell_type": "markdown",
      "metadata": {
        "id": "gdYEkOaykQ67"
      },
      "source": [
        "## **Dataset**"
      ]
    },
    {
      "cell_type": "code",
      "metadata": {
        "colab": {
          "base_uri": "https://localhost:8080/",
          "height": 669
        },
        "id": "FqYXDtJFkQP8",
        "outputId": "67672079-f0e5-4822-fe10-ec4da1d06ec1"
      },
      "source": [
        "column_names01 = ['Time_ID', 'User1', 'User2', 'Distance']\n",
        "raw_df01 = pd.read_csv('Kissler_DataS1.csv', names = column_names01)\n",
        "raw_df01.head(20)"
      ],
      "execution_count": null,
      "outputs": [
        {
          "output_type": "execute_result",
          "data": {
            "text/html": [
              "<div>\n",
              "<style scoped>\n",
              "    .dataframe tbody tr th:only-of-type {\n",
              "        vertical-align: middle;\n",
              "    }\n",
              "\n",
              "    .dataframe tbody tr th {\n",
              "        vertical-align: top;\n",
              "    }\n",
              "\n",
              "    .dataframe thead th {\n",
              "        text-align: right;\n",
              "    }\n",
              "</style>\n",
              "<table border=\"1\" class=\"dataframe\">\n",
              "  <thead>\n",
              "    <tr style=\"text-align: right;\">\n",
              "      <th></th>\n",
              "      <th>Time_ID</th>\n",
              "      <th>User1</th>\n",
              "      <th>User2</th>\n",
              "      <th>Distance</th>\n",
              "    </tr>\n",
              "  </thead>\n",
              "  <tbody>\n",
              "    <tr>\n",
              "      <th>0</th>\n",
              "      <td>1</td>\n",
              "      <td>1</td>\n",
              "      <td>390</td>\n",
              "      <td>17</td>\n",
              "    </tr>\n",
              "    <tr>\n",
              "      <th>1</th>\n",
              "      <td>1</td>\n",
              "      <td>2</td>\n",
              "      <td>215</td>\n",
              "      <td>9</td>\n",
              "    </tr>\n",
              "    <tr>\n",
              "      <th>2</th>\n",
              "      <td>1</td>\n",
              "      <td>2</td>\n",
              "      <td>246</td>\n",
              "      <td>18</td>\n",
              "    </tr>\n",
              "    <tr>\n",
              "      <th>3</th>\n",
              "      <td>1</td>\n",
              "      <td>2</td>\n",
              "      <td>265</td>\n",
              "      <td>45</td>\n",
              "    </tr>\n",
              "    <tr>\n",
              "      <th>4</th>\n",
              "      <td>1</td>\n",
              "      <td>5</td>\n",
              "      <td>367</td>\n",
              "      <td>32</td>\n",
              "    </tr>\n",
              "    <tr>\n",
              "      <th>5</th>\n",
              "      <td>1</td>\n",
              "      <td>5</td>\n",
              "      <td>430</td>\n",
              "      <td>17</td>\n",
              "    </tr>\n",
              "    <tr>\n",
              "      <th>6</th>\n",
              "      <td>1</td>\n",
              "      <td>8</td>\n",
              "      <td>10</td>\n",
              "      <td>13</td>\n",
              "    </tr>\n",
              "    <tr>\n",
              "      <th>7</th>\n",
              "      <td>1</td>\n",
              "      <td>9</td>\n",
              "      <td>274</td>\n",
              "      <td>44</td>\n",
              "    </tr>\n",
              "    <tr>\n",
              "      <th>8</th>\n",
              "      <td>1</td>\n",
              "      <td>11</td>\n",
              "      <td>22</td>\n",
              "      <td>47</td>\n",
              "    </tr>\n",
              "    <tr>\n",
              "      <th>9</th>\n",
              "      <td>1</td>\n",
              "      <td>11</td>\n",
              "      <td>39</td>\n",
              "      <td>42</td>\n",
              "    </tr>\n",
              "    <tr>\n",
              "      <th>10</th>\n",
              "      <td>1</td>\n",
              "      <td>12</td>\n",
              "      <td>342</td>\n",
              "      <td>0</td>\n",
              "    </tr>\n",
              "    <tr>\n",
              "      <th>11</th>\n",
              "      <td>1</td>\n",
              "      <td>13</td>\n",
              "      <td>437</td>\n",
              "      <td>5</td>\n",
              "    </tr>\n",
              "    <tr>\n",
              "      <th>12</th>\n",
              "      <td>1</td>\n",
              "      <td>14</td>\n",
              "      <td>202</td>\n",
              "      <td>25</td>\n",
              "    </tr>\n",
              "    <tr>\n",
              "      <th>13</th>\n",
              "      <td>1</td>\n",
              "      <td>14</td>\n",
              "      <td>307</td>\n",
              "      <td>5</td>\n",
              "    </tr>\n",
              "    <tr>\n",
              "      <th>14</th>\n",
              "      <td>1</td>\n",
              "      <td>14</td>\n",
              "      <td>357</td>\n",
              "      <td>37</td>\n",
              "    </tr>\n",
              "    <tr>\n",
              "      <th>15</th>\n",
              "      <td>1</td>\n",
              "      <td>15</td>\n",
              "      <td>238</td>\n",
              "      <td>12</td>\n",
              "    </tr>\n",
              "    <tr>\n",
              "      <th>16</th>\n",
              "      <td>1</td>\n",
              "      <td>15</td>\n",
              "      <td>371</td>\n",
              "      <td>6</td>\n",
              "    </tr>\n",
              "    <tr>\n",
              "      <th>17</th>\n",
              "      <td>1</td>\n",
              "      <td>17</td>\n",
              "      <td>372</td>\n",
              "      <td>32</td>\n",
              "    </tr>\n",
              "    <tr>\n",
              "      <th>18</th>\n",
              "      <td>1</td>\n",
              "      <td>17</td>\n",
              "      <td>395</td>\n",
              "      <td>25</td>\n",
              "    </tr>\n",
              "    <tr>\n",
              "      <th>19</th>\n",
              "      <td>1</td>\n",
              "      <td>19</td>\n",
              "      <td>30</td>\n",
              "      <td>42</td>\n",
              "    </tr>\n",
              "  </tbody>\n",
              "</table>\n",
              "</div>"
            ],
            "text/plain": [
              "    Time_ID  User1  User2  Distance\n",
              "0         1      1    390        17\n",
              "1         1      2    215         9\n",
              "2         1      2    246        18\n",
              "3         1      2    265        45\n",
              "4         1      5    367        32\n",
              "5         1      5    430        17\n",
              "6         1      8     10        13\n",
              "7         1      9    274        44\n",
              "8         1     11     22        47\n",
              "9         1     11     39        42\n",
              "10        1     12    342         0\n",
              "11        1     13    437         5\n",
              "12        1     14    202        25\n",
              "13        1     14    307         5\n",
              "14        1     14    357        37\n",
              "15        1     15    238        12\n",
              "16        1     15    371         6\n",
              "17        1     17    372        32\n",
              "18        1     17    395        25\n",
              "19        1     19     30        42"
            ]
          },
          "metadata": {
            "tags": []
          },
          "execution_count": 6
        }
      ]
    },
    {
      "cell_type": "code",
      "metadata": {
        "colab": {
          "base_uri": "https://localhost:8080/"
        },
        "id": "GHRh-iPQkop0",
        "outputId": "c3c8714b-9935-49e6-fa95-77f240f2536c"
      },
      "source": [
        "raw_df01.shape\n",
        "raw_df01.dtypes"
      ],
      "execution_count": null,
      "outputs": [
        {
          "output_type": "execute_result",
          "data": {
            "text/plain": [
              "Time_ID     int64\n",
              "User1       int64\n",
              "User2       int64\n",
              "Distance    int64\n",
              "dtype: object"
            ]
          },
          "metadata": {
            "tags": []
          },
          "execution_count": 76
        }
      ]
    },
    {
      "cell_type": "code",
      "metadata": {
        "colab": {
          "base_uri": "https://localhost:8080/"
        },
        "id": "wQw4fBZsk0E2",
        "outputId": "5d369eda-7a95-4036-d8b5-2a09be8ee307"
      },
      "source": [
        "df = raw_df01[(raw_df01['Distance']>0) & (raw_df01['Distance']<5)]\n",
        "df.shape"
      ],
      "execution_count": null,
      "outputs": [
        {
          "output_type": "execute_result",
          "data": {
            "text/plain": [
              "(8062, 4)"
            ]
          },
          "metadata": {
            "tags": []
          },
          "execution_count": 8
        }
      ]
    },
    {
      "cell_type": "code",
      "metadata": {
        "colab": {
          "base_uri": "https://localhost:8080/",
          "height": 669
        },
        "id": "CYEIyNbOeOea",
        "outputId": "db5b2b22-ef65-48ca-9e07-e356fb98c35f"
      },
      "source": [
        "df.head(20)"
      ],
      "execution_count": null,
      "outputs": [
        {
          "output_type": "execute_result",
          "data": {
            "text/html": [
              "<div>\n",
              "<style scoped>\n",
              "    .dataframe tbody tr th:only-of-type {\n",
              "        vertical-align: middle;\n",
              "    }\n",
              "\n",
              "    .dataframe tbody tr th {\n",
              "        vertical-align: top;\n",
              "    }\n",
              "\n",
              "    .dataframe thead th {\n",
              "        text-align: right;\n",
              "    }\n",
              "</style>\n",
              "<table border=\"1\" class=\"dataframe\">\n",
              "  <thead>\n",
              "    <tr style=\"text-align: right;\">\n",
              "      <th></th>\n",
              "      <th>Time_ID</th>\n",
              "      <th>User1</th>\n",
              "      <th>User2</th>\n",
              "      <th>Distance</th>\n",
              "    </tr>\n",
              "  </thead>\n",
              "  <tbody>\n",
              "    <tr>\n",
              "      <th>35</th>\n",
              "      <td>1</td>\n",
              "      <td>35</td>\n",
              "      <td>253</td>\n",
              "      <td>4</td>\n",
              "    </tr>\n",
              "    <tr>\n",
              "      <th>38</th>\n",
              "      <td>1</td>\n",
              "      <td>36</td>\n",
              "      <td>457</td>\n",
              "      <td>3</td>\n",
              "    </tr>\n",
              "    <tr>\n",
              "      <th>68</th>\n",
              "      <td>1</td>\n",
              "      <td>74</td>\n",
              "      <td>262</td>\n",
              "      <td>3</td>\n",
              "    </tr>\n",
              "    <tr>\n",
              "      <th>70</th>\n",
              "      <td>1</td>\n",
              "      <td>75</td>\n",
              "      <td>183</td>\n",
              "      <td>2</td>\n",
              "    </tr>\n",
              "    <tr>\n",
              "      <th>80</th>\n",
              "      <td>1</td>\n",
              "      <td>83</td>\n",
              "      <td>380</td>\n",
              "      <td>4</td>\n",
              "    </tr>\n",
              "    <tr>\n",
              "      <th>121</th>\n",
              "      <td>1</td>\n",
              "      <td>118</td>\n",
              "      <td>129</td>\n",
              "      <td>3</td>\n",
              "    </tr>\n",
              "    <tr>\n",
              "      <th>122</th>\n",
              "      <td>1</td>\n",
              "      <td>118</td>\n",
              "      <td>302</td>\n",
              "      <td>4</td>\n",
              "    </tr>\n",
              "    <tr>\n",
              "      <th>123</th>\n",
              "      <td>1</td>\n",
              "      <td>121</td>\n",
              "      <td>387</td>\n",
              "      <td>1</td>\n",
              "    </tr>\n",
              "    <tr>\n",
              "      <th>133</th>\n",
              "      <td>1</td>\n",
              "      <td>133</td>\n",
              "      <td>205</td>\n",
              "      <td>3</td>\n",
              "    </tr>\n",
              "    <tr>\n",
              "      <th>140</th>\n",
              "      <td>1</td>\n",
              "      <td>142</td>\n",
              "      <td>159</td>\n",
              "      <td>3</td>\n",
              "    </tr>\n",
              "    <tr>\n",
              "      <th>172</th>\n",
              "      <td>1</td>\n",
              "      <td>181</td>\n",
              "      <td>276</td>\n",
              "      <td>3</td>\n",
              "    </tr>\n",
              "    <tr>\n",
              "      <th>173</th>\n",
              "      <td>1</td>\n",
              "      <td>181</td>\n",
              "      <td>378</td>\n",
              "      <td>4</td>\n",
              "    </tr>\n",
              "    <tr>\n",
              "      <th>175</th>\n",
              "      <td>1</td>\n",
              "      <td>188</td>\n",
              "      <td>296</td>\n",
              "      <td>2</td>\n",
              "    </tr>\n",
              "    <tr>\n",
              "      <th>181</th>\n",
              "      <td>1</td>\n",
              "      <td>198</td>\n",
              "      <td>200</td>\n",
              "      <td>2</td>\n",
              "    </tr>\n",
              "    <tr>\n",
              "      <th>182</th>\n",
              "      <td>1</td>\n",
              "      <td>199</td>\n",
              "      <td>200</td>\n",
              "      <td>2</td>\n",
              "    </tr>\n",
              "    <tr>\n",
              "      <th>193</th>\n",
              "      <td>1</td>\n",
              "      <td>217</td>\n",
              "      <td>228</td>\n",
              "      <td>1</td>\n",
              "    </tr>\n",
              "    <tr>\n",
              "      <th>213</th>\n",
              "      <td>1</td>\n",
              "      <td>253</td>\n",
              "      <td>400</td>\n",
              "      <td>4</td>\n",
              "    </tr>\n",
              "    <tr>\n",
              "      <th>219</th>\n",
              "      <td>1</td>\n",
              "      <td>279</td>\n",
              "      <td>290</td>\n",
              "      <td>3</td>\n",
              "    </tr>\n",
              "    <tr>\n",
              "      <th>230</th>\n",
              "      <td>1</td>\n",
              "      <td>318</td>\n",
              "      <td>332</td>\n",
              "      <td>3</td>\n",
              "    </tr>\n",
              "    <tr>\n",
              "      <th>231</th>\n",
              "      <td>1</td>\n",
              "      <td>322</td>\n",
              "      <td>396</td>\n",
              "      <td>2</td>\n",
              "    </tr>\n",
              "  </tbody>\n",
              "</table>\n",
              "</div>"
            ],
            "text/plain": [
              "     Time_ID  User1  User2  Distance\n",
              "35         1     35    253         4\n",
              "38         1     36    457         3\n",
              "68         1     74    262         3\n",
              "70         1     75    183         2\n",
              "80         1     83    380         4\n",
              "121        1    118    129         3\n",
              "122        1    118    302         4\n",
              "123        1    121    387         1\n",
              "133        1    133    205         3\n",
              "140        1    142    159         3\n",
              "172        1    181    276         3\n",
              "173        1    181    378         4\n",
              "175        1    188    296         2\n",
              "181        1    198    200         2\n",
              "182        1    199    200         2\n",
              "193        1    217    228         1\n",
              "213        1    253    400         4\n",
              "219        1    279    290         3\n",
              "230        1    318    332         3\n",
              "231        1    322    396         2"
            ]
          },
          "metadata": {
            "tags": []
          },
          "execution_count": 9
        }
      ]
    },
    {
      "cell_type": "code",
      "metadata": {
        "colab": {
          "base_uri": "https://localhost:8080/",
          "height": 450
        },
        "id": "HVWI_mV_lOMS",
        "outputId": "e220ec75-88da-4bc5-f6f8-2b30943e59c8"
      },
      "source": [
        "groups = df.groupby(['User1', 'User2'])\n",
        "groups.first()"
      ],
      "execution_count": null,
      "outputs": [
        {
          "output_type": "execute_result",
          "data": {
            "text/html": [
              "<div>\n",
              "<style scoped>\n",
              "    .dataframe tbody tr th:only-of-type {\n",
              "        vertical-align: middle;\n",
              "    }\n",
              "\n",
              "    .dataframe tbody tr th {\n",
              "        vertical-align: top;\n",
              "    }\n",
              "\n",
              "    .dataframe thead th {\n",
              "        text-align: right;\n",
              "    }\n",
              "</style>\n",
              "<table border=\"1\" class=\"dataframe\">\n",
              "  <thead>\n",
              "    <tr style=\"text-align: right;\">\n",
              "      <th></th>\n",
              "      <th></th>\n",
              "      <th>Time_ID</th>\n",
              "      <th>Distance</th>\n",
              "    </tr>\n",
              "    <tr>\n",
              "      <th>User1</th>\n",
              "      <th>User2</th>\n",
              "      <th></th>\n",
              "      <th></th>\n",
              "    </tr>\n",
              "  </thead>\n",
              "  <tbody>\n",
              "    <tr>\n",
              "      <th rowspan=\"2\" valign=\"top\">1</th>\n",
              "      <th>189</th>\n",
              "      <td>418</td>\n",
              "      <td>2</td>\n",
              "    </tr>\n",
              "    <tr>\n",
              "      <th>390</th>\n",
              "      <td>6</td>\n",
              "      <td>2</td>\n",
              "    </tr>\n",
              "    <tr>\n",
              "      <th>2</th>\n",
              "      <th>21</th>\n",
              "      <td>2</td>\n",
              "      <td>3</td>\n",
              "    </tr>\n",
              "    <tr>\n",
              "      <th rowspan=\"2\" valign=\"top\">3</th>\n",
              "      <th>234</th>\n",
              "      <td>535</td>\n",
              "      <td>4</td>\n",
              "    </tr>\n",
              "    <tr>\n",
              "      <th>389</th>\n",
              "      <td>524</td>\n",
              "      <td>3</td>\n",
              "    </tr>\n",
              "    <tr>\n",
              "      <th>...</th>\n",
              "      <th>...</th>\n",
              "      <td>...</td>\n",
              "      <td>...</td>\n",
              "    </tr>\n",
              "    <tr>\n",
              "      <th>422</th>\n",
              "      <th>469</th>\n",
              "      <td>136</td>\n",
              "      <td>4</td>\n",
              "    </tr>\n",
              "    <tr>\n",
              "      <th>425</th>\n",
              "      <th>445</th>\n",
              "      <td>416</td>\n",
              "      <td>2</td>\n",
              "    </tr>\n",
              "    <tr>\n",
              "      <th>426</th>\n",
              "      <th>442</th>\n",
              "      <td>155</td>\n",
              "      <td>3</td>\n",
              "    </tr>\n",
              "    <tr>\n",
              "      <th>439</th>\n",
              "      <th>463</th>\n",
              "      <td>255</td>\n",
              "      <td>3</td>\n",
              "    </tr>\n",
              "    <tr>\n",
              "      <th>444</th>\n",
              "      <th>454</th>\n",
              "      <td>355</td>\n",
              "      <td>4</td>\n",
              "    </tr>\n",
              "  </tbody>\n",
              "</table>\n",
              "<p>495 rows × 2 columns</p>\n",
              "</div>"
            ],
            "text/plain": [
              "             Time_ID  Distance\n",
              "User1 User2                   \n",
              "1     189        418         2\n",
              "      390          6         2\n",
              "2     21           2         3\n",
              "3     234        535         4\n",
              "      389        524         3\n",
              "...              ...       ...\n",
              "422   469        136         4\n",
              "425   445        416         2\n",
              "426   442        155         3\n",
              "439   463        255         3\n",
              "444   454        355         4\n",
              "\n",
              "[495 rows x 2 columns]"
            ]
          },
          "metadata": {
            "tags": []
          },
          "execution_count": 10
        }
      ]
    },
    {
      "cell_type": "code",
      "metadata": {
        "colab": {
          "base_uri": "https://localhost:8080/",
          "height": 390
        },
        "id": "0HIKFRp3ll1B",
        "outputId": "7a57d685-6b05-4721-8c68-fbb670b0377c"
      },
      "source": [
        "groups.get_group((3, 389))"
      ],
      "execution_count": null,
      "outputs": [
        {
          "output_type": "execute_result",
          "data": {
            "text/html": [
              "<div>\n",
              "<style scoped>\n",
              "    .dataframe tbody tr th:only-of-type {\n",
              "        vertical-align: middle;\n",
              "    }\n",
              "\n",
              "    .dataframe tbody tr th {\n",
              "        vertical-align: top;\n",
              "    }\n",
              "\n",
              "    .dataframe thead th {\n",
              "        text-align: right;\n",
              "    }\n",
              "</style>\n",
              "<table border=\"1\" class=\"dataframe\">\n",
              "  <thead>\n",
              "    <tr style=\"text-align: right;\">\n",
              "      <th></th>\n",
              "      <th>Time_ID</th>\n",
              "      <th>Distance</th>\n",
              "    </tr>\n",
              "  </thead>\n",
              "  <tbody>\n",
              "    <tr>\n",
              "      <th>91258</th>\n",
              "      <td>524</td>\n",
              "      <td>3</td>\n",
              "    </tr>\n",
              "    <tr>\n",
              "      <th>94056</th>\n",
              "      <td>538</td>\n",
              "      <td>2</td>\n",
              "    </tr>\n",
              "    <tr>\n",
              "      <th>94688</th>\n",
              "      <td>541</td>\n",
              "      <td>3</td>\n",
              "    </tr>\n",
              "    <tr>\n",
              "      <th>94891</th>\n",
              "      <td>542</td>\n",
              "      <td>4</td>\n",
              "    </tr>\n",
              "    <tr>\n",
              "      <th>95941</th>\n",
              "      <td>547</td>\n",
              "      <td>4</td>\n",
              "    </tr>\n",
              "    <tr>\n",
              "      <th>97901</th>\n",
              "      <td>556</td>\n",
              "      <td>3</td>\n",
              "    </tr>\n",
              "    <tr>\n",
              "      <th>100271</th>\n",
              "      <td>566</td>\n",
              "      <td>1</td>\n",
              "    </tr>\n",
              "    <tr>\n",
              "      <th>100513</th>\n",
              "      <td>567</td>\n",
              "      <td>1</td>\n",
              "    </tr>\n",
              "    <tr>\n",
              "      <th>101910</th>\n",
              "      <td>573</td>\n",
              "      <td>1</td>\n",
              "    </tr>\n",
              "    <tr>\n",
              "      <th>102130</th>\n",
              "      <td>574</td>\n",
              "      <td>1</td>\n",
              "    </tr>\n",
              "    <tr>\n",
              "      <th>102361</th>\n",
              "      <td>575</td>\n",
              "      <td>1</td>\n",
              "    </tr>\n",
              "  </tbody>\n",
              "</table>\n",
              "</div>"
            ],
            "text/plain": [
              "        Time_ID  Distance\n",
              "91258       524         3\n",
              "94056       538         2\n",
              "94688       541         3\n",
              "94891       542         4\n",
              "95941       547         4\n",
              "97901       556         3\n",
              "100271      566         1\n",
              "100513      567         1\n",
              "101910      573         1\n",
              "102130      574         1\n",
              "102361      575         1"
            ]
          },
          "metadata": {
            "tags": []
          },
          "execution_count": 11
        }
      ]
    },
    {
      "cell_type": "code",
      "metadata": {
        "colab": {
          "base_uri": "https://localhost:8080/",
          "height": 204
        },
        "id": "fO8WyvfgmCAz",
        "outputId": "f8d248f6-dc75-4eb9-f207-d51ad0d088d8"
      },
      "source": [
        "edge_df = df.groupby(['User1', 'User2']).size().reset_index()\n",
        "edge_df.head()"
      ],
      "execution_count": null,
      "outputs": [
        {
          "output_type": "execute_result",
          "data": {
            "text/html": [
              "<div>\n",
              "<style scoped>\n",
              "    .dataframe tbody tr th:only-of-type {\n",
              "        vertical-align: middle;\n",
              "    }\n",
              "\n",
              "    .dataframe tbody tr th {\n",
              "        vertical-align: top;\n",
              "    }\n",
              "\n",
              "    .dataframe thead th {\n",
              "        text-align: right;\n",
              "    }\n",
              "</style>\n",
              "<table border=\"1\" class=\"dataframe\">\n",
              "  <thead>\n",
              "    <tr style=\"text-align: right;\">\n",
              "      <th></th>\n",
              "      <th>User1</th>\n",
              "      <th>User2</th>\n",
              "      <th>0</th>\n",
              "    </tr>\n",
              "  </thead>\n",
              "  <tbody>\n",
              "    <tr>\n",
              "      <th>0</th>\n",
              "      <td>1</td>\n",
              "      <td>189</td>\n",
              "      <td>1</td>\n",
              "    </tr>\n",
              "    <tr>\n",
              "      <th>1</th>\n",
              "      <td>1</td>\n",
              "      <td>390</td>\n",
              "      <td>39</td>\n",
              "    </tr>\n",
              "    <tr>\n",
              "      <th>2</th>\n",
              "      <td>2</td>\n",
              "      <td>21</td>\n",
              "      <td>43</td>\n",
              "    </tr>\n",
              "    <tr>\n",
              "      <th>3</th>\n",
              "      <td>3</td>\n",
              "      <td>234</td>\n",
              "      <td>11</td>\n",
              "    </tr>\n",
              "    <tr>\n",
              "      <th>4</th>\n",
              "      <td>3</td>\n",
              "      <td>389</td>\n",
              "      <td>11</td>\n",
              "    </tr>\n",
              "  </tbody>\n",
              "</table>\n",
              "</div>"
            ],
            "text/plain": [
              "   User1  User2   0\n",
              "0      1    189   1\n",
              "1      1    390  39\n",
              "2      2     21  43\n",
              "3      3    234  11\n",
              "4      3    389  11"
            ]
          },
          "metadata": {
            "tags": []
          },
          "execution_count": 12
        }
      ]
    },
    {
      "cell_type": "code",
      "metadata": {
        "colab": {
          "base_uri": "https://localhost:8080/",
          "height": 204
        },
        "id": "FuLEs_vOmN7a",
        "outputId": "43d7d260-685a-41ae-bd08-d1e763044aa1"
      },
      "source": [
        "edge_df.rename(columns={0:'Number_of_Contacts'}, inplace=True)\n",
        "edge_df.head()"
      ],
      "execution_count": null,
      "outputs": [
        {
          "output_type": "execute_result",
          "data": {
            "text/html": [
              "<div>\n",
              "<style scoped>\n",
              "    .dataframe tbody tr th:only-of-type {\n",
              "        vertical-align: middle;\n",
              "    }\n",
              "\n",
              "    .dataframe tbody tr th {\n",
              "        vertical-align: top;\n",
              "    }\n",
              "\n",
              "    .dataframe thead th {\n",
              "        text-align: right;\n",
              "    }\n",
              "</style>\n",
              "<table border=\"1\" class=\"dataframe\">\n",
              "  <thead>\n",
              "    <tr style=\"text-align: right;\">\n",
              "      <th></th>\n",
              "      <th>User1</th>\n",
              "      <th>User2</th>\n",
              "      <th>Number_of_Contacts</th>\n",
              "    </tr>\n",
              "  </thead>\n",
              "  <tbody>\n",
              "    <tr>\n",
              "      <th>0</th>\n",
              "      <td>1</td>\n",
              "      <td>189</td>\n",
              "      <td>1</td>\n",
              "    </tr>\n",
              "    <tr>\n",
              "      <th>1</th>\n",
              "      <td>1</td>\n",
              "      <td>390</td>\n",
              "      <td>39</td>\n",
              "    </tr>\n",
              "    <tr>\n",
              "      <th>2</th>\n",
              "      <td>2</td>\n",
              "      <td>21</td>\n",
              "      <td>43</td>\n",
              "    </tr>\n",
              "    <tr>\n",
              "      <th>3</th>\n",
              "      <td>3</td>\n",
              "      <td>234</td>\n",
              "      <td>11</td>\n",
              "    </tr>\n",
              "    <tr>\n",
              "      <th>4</th>\n",
              "      <td>3</td>\n",
              "      <td>389</td>\n",
              "      <td>11</td>\n",
              "    </tr>\n",
              "  </tbody>\n",
              "</table>\n",
              "</div>"
            ],
            "text/plain": [
              "   User1  User2  Number_of_Contacts\n",
              "0      1    189                   1\n",
              "1      1    390                  39\n",
              "2      2     21                  43\n",
              "3      3    234                  11\n",
              "4      3    389                  11"
            ]
          },
          "metadata": {
            "tags": []
          },
          "execution_count": 13
        }
      ]
    },
    {
      "cell_type": "code",
      "metadata": {
        "colab": {
          "base_uri": "https://localhost:8080/"
        },
        "id": "DCnEy8fpmwEo",
        "outputId": "cb04223a-c538-4cf7-b83c-88c1cafed717"
      },
      "source": [
        "edge_df.shape"
      ],
      "execution_count": null,
      "outputs": [
        {
          "output_type": "execute_result",
          "data": {
            "text/plain": [
              "(495, 3)"
            ]
          },
          "metadata": {
            "tags": []
          },
          "execution_count": 14
        }
      ]
    },
    {
      "cell_type": "code",
      "metadata": {
        "colab": {
          "base_uri": "https://localhost:8080/"
        },
        "id": "5ls7jGEzm8jT",
        "outputId": "7219c387-d900-408c-82c7-afe141be959d"
      },
      "source": [
        "edge_df = edge_df[edge_df['Number_of_Contacts']>3]\n",
        "edge_df.shape"
      ],
      "execution_count": null,
      "outputs": [
        {
          "output_type": "execute_result",
          "data": {
            "text/plain": [
              "(167, 3)"
            ]
          },
          "metadata": {
            "tags": []
          },
          "execution_count": 15
        }
      ]
    },
    {
      "cell_type": "markdown",
      "metadata": {
        "id": "Q0baWnXAmly4"
      },
      "source": [
        "# **Social Graph Analysis**"
      ]
    },
    {
      "cell_type": "markdown",
      "metadata": {
        "id": "CF3fGgaemroI"
      },
      "source": [
        "## Create a graph"
      ]
    },
    {
      "cell_type": "code",
      "metadata": {
        "colab": {
          "base_uri": "https://localhost:8080/"
        },
        "id": "kcY3KofAmumn",
        "outputId": "1a4f01bb-951a-4515-b756-5a721817dfb6"
      },
      "source": [
        "G = nx.from_pandas_edgelist(edge_df, source='User1', target='User2', edge_attr=['Number_of_Contacts'], create_using=nx.Graph())#nx.DiGraph()\n",
        "print(nx.info(G))"
      ],
      "execution_count": null,
      "outputs": [
        {
          "output_type": "stream",
          "text": [
            "Name: \n",
            "Type: Graph\n",
            "Number of nodes: 211\n",
            "Number of edges: 167\n",
            "Average degree:   1.5829\n"
          ],
          "name": "stdout"
        }
      ]
    },
    {
      "cell_type": "code",
      "metadata": {
        "colab": {
          "base_uri": "https://localhost:8080/"
        },
        "id": "vEh17py9n79n",
        "outputId": "f649da04-f671-402f-c56c-055dbbe705b1"
      },
      "source": [
        "len(G.nodes)"
      ],
      "execution_count": null,
      "outputs": [
        {
          "output_type": "execute_result",
          "data": {
            "text/plain": [
              "211"
            ]
          },
          "metadata": {
            "tags": []
          },
          "execution_count": 17
        }
      ]
    },
    {
      "cell_type": "code",
      "metadata": {
        "colab": {
          "base_uri": "https://localhost:8080/"
        },
        "id": "19_inpknn_xJ",
        "outputId": "19085f9e-26ad-4bbc-f0c4-5539504c3c37"
      },
      "source": [
        "len(G.edges)"
      ],
      "execution_count": null,
      "outputs": [
        {
          "output_type": "execute_result",
          "data": {
            "text/plain": [
              "167"
            ]
          },
          "metadata": {
            "tags": []
          },
          "execution_count": 18
        }
      ]
    },
    {
      "cell_type": "code",
      "metadata": {
        "colab": {
          "base_uri": "https://localhost:8080/"
        },
        "id": "gyGfnL1XoB_7",
        "outputId": "08fccbce-bfda-419a-bf25-38e6e5e0dbdb"
      },
      "source": [
        "G.nodes(data=True)"
      ],
      "execution_count": null,
      "outputs": [
        {
          "output_type": "execute_result",
          "data": {
            "text/plain": [
              "NodeDataView({1: {}, 390: {}, 2: {}, 21: {}, 3: {}, 234: {}, 389: {}, 4: {}, 196: {}, 8: {}, 10: {}, 12: {}, 342: {}, 13: {}, 437: {}, 14: {}, 307: {}, 337: {}, 15: {}, 238: {}, 371: {}, 16: {}, 191: {}, 19: {}, 403: {}, 26: {}, 30: {}, 60: {}, 28: {}, 357: {}, 32: {}, 180: {}, 182: {}, 195: {}, 35: {}, 253: {}, 400: {}, 36: {}, 301: {}, 457: {}, 38: {}, 452: {}, 39: {}, 171: {}, 334: {}, 44: {}, 242: {}, 427: {}, 46: {}, 47: {}, 291: {}, 48: {}, 49: {}, 295: {}, 318: {}, 332: {}, 263: {}, 449: {}, 52: {}, 408: {}, 57: {}, 58: {}, 189: {}, 61: {}, 197: {}, 65: {}, 421: {}, 72: {}, 73: {}, 74: {}, 262: {}, 75: {}, 183: {}, 80: {}, 245: {}, 83: {}, 163: {}, 380: {}, 84: {}, 227: {}, 86: {}, 127: {}, 190: {}, 87: {}, 174: {}, 201: {}, 275: {}, 448: {}, 88: {}, 142: {}, 89: {}, 209: {}, 92: {}, 93: {}, 95: {}, 106: {}, 107: {}, 96: {}, 302: {}, 99: {}, 229: {}, 101: {}, 438: {}, 108: {}, 364: {}, 109: {}, 230: {}, 118: {}, 129: {}, 122: {}, 141: {}, 185: {}, 462: {}, 130: {}, 352: {}, 133: {}, 205: {}, 136: {}, 422: {}, 159: {}, 147: {}, 233: {}, 148: {}, 166: {}, 153: {}, 154: {}, 249: {}, 349: {}, 164: {}, 356: {}, 155: {}, 354: {}, 366: {}, 369: {}, 162: {}, 239: {}, 399: {}, 454: {}, 246: {}, 165: {}, 316: {}, 172: {}, 173: {}, 287: {}, 178: {}, 179: {}, 235: {}, 181: {}, 276: {}, 378: {}, 188: {}, 296: {}, 198: {}, 199: {}, 200: {}, 214: {}, 215: {}, 265: {}, 375: {}, 217: {}, 228: {}, 283: {}, 218: {}, 308: {}, 325: {}, 243: {}, 323: {}, 345: {}, 269: {}, 370: {}, 273: {}, 311: {}, 274: {}, 453: {}, 279: {}, 290: {}, 286: {}, 289: {}, 335: {}, 304: {}, 343: {}, 309: {}, 310: {}, 322: {}, 396: {}, 460: {}, 333: {}, 336: {}, 339: {}, 465: {}, 340: {}, 341: {}, 347: {}, 387: {}, 415: {}, 361: {}, 362: {}, 420: {}, 367: {}, 430: {}, 468: {}, 384: {}, 439: {}, 450: {}, 455: {}, 404: {}, 431: {}, 414: {}, 444: {}, 426: {}, 442: {}})"
            ]
          },
          "metadata": {
            "tags": []
          },
          "execution_count": 19
        }
      ]
    },
    {
      "cell_type": "code",
      "metadata": {
        "colab": {
          "base_uri": "https://localhost:8080/"
        },
        "id": "xdGEt__FoD9R",
        "outputId": "252d81ac-5d7d-4c23-d5d3-5a8320dae011"
      },
      "source": [
        "G.edges(data=True)"
      ],
      "execution_count": null,
      "outputs": [
        {
          "output_type": "execute_result",
          "data": {
            "text/plain": [
              "EdgeDataView([(1, 390, {'Number_of_Contacts': 39}), (2, 21, {'Number_of_Contacts': 43}), (3, 234, {'Number_of_Contacts': 11}), (3, 389, {'Number_of_Contacts': 11}), (234, 389, {'Number_of_Contacts': 81}), (4, 196, {'Number_of_Contacts': 90}), (8, 10, {'Number_of_Contacts': 113}), (12, 342, {'Number_of_Contacts': 81}), (13, 437, {'Number_of_Contacts': 21}), (14, 307, {'Number_of_Contacts': 35}), (14, 337, {'Number_of_Contacts': 9}), (307, 337, {'Number_of_Contacts': 10}), (337, 336, {'Number_of_Contacts': 11}), (15, 238, {'Number_of_Contacts': 170}), (15, 371, {'Number_of_Contacts': 175}), (238, 371, {'Number_of_Contacts': 104}), (16, 191, {'Number_of_Contacts': 35}), (191, 46, {'Number_of_Contacts': 5}), (19, 403, {'Number_of_Contacts': 42}), (26, 30, {'Number_of_Contacts': 35}), (26, 60, {'Number_of_Contacts': 23}), (30, 60, {'Number_of_Contacts': 5}), (28, 357, {'Number_of_Contacts': 7}), (32, 180, {'Number_of_Contacts': 76}), (32, 182, {'Number_of_Contacts': 13}), (32, 195, {'Number_of_Contacts': 19}), (180, 182, {'Number_of_Contacts': 12}), (180, 195, {'Number_of_Contacts': 32}), (35, 253, {'Number_of_Contacts': 158}), (35, 400, {'Number_of_Contacts': 60}), (253, 400, {'Number_of_Contacts': 98}), (400, 96, {'Number_of_Contacts': 4}), (400, 214, {'Number_of_Contacts': 7}), (400, 302, {'Number_of_Contacts': 9}), (36, 301, {'Number_of_Contacts': 127}), (36, 457, {'Number_of_Contacts': 64}), (301, 457, {'Number_of_Contacts': 106}), (38, 452, {'Number_of_Contacts': 16}), (39, 171, {'Number_of_Contacts': 26}), (39, 334, {'Number_of_Contacts': 6}), (44, 242, {'Number_of_Contacts': 18}), (44, 427, {'Number_of_Contacts': 5}), (242, 325, {'Number_of_Contacts': 5}), (47, 291, {'Number_of_Contacts': 15}), (48, 49, {'Number_of_Contacts': 10}), (48, 295, {'Number_of_Contacts': 48}), (48, 318, {'Number_of_Contacts': 18}), (48, 332, {'Number_of_Contacts': 48}), (49, 263, {'Number_of_Contacts': 8}), (49, 295, {'Number_of_Contacts': 10}), (49, 449, {'Number_of_Contacts': 102}), (295, 318, {'Number_of_Contacts': 24}), (295, 332, {'Number_of_Contacts': 203}), (318, 332, {'Number_of_Contacts': 46}), (332, 333, {'Number_of_Contacts': 49}), (263, 178, {'Number_of_Contacts': 7}), (263, 345, {'Number_of_Contacts': 7}), (52, 408, {'Number_of_Contacts': 171}), (57, 58, {'Number_of_Contacts': 6}), (58, 189, {'Number_of_Contacts': 6}), (189, 181, {'Number_of_Contacts': 42}), (189, 276, {'Number_of_Contacts': 80}), (189, 378, {'Number_of_Contacts': 116}), (61, 197, {'Number_of_Contacts': 14}), (65, 421, {'Number_of_Contacts': 72}), (72, 73, {'Number_of_Contacts': 25}), (74, 262, {'Number_of_Contacts': 204}), (75, 183, {'Number_of_Contacts': 301}), (80, 245, {'Number_of_Contacts': 40}), (245, 99, {'Number_of_Contacts': 14}), (83, 163, {'Number_of_Contacts': 20}), (83, 380, {'Number_of_Contacts': 90}), (163, 454, {'Number_of_Contacts': 6}), (84, 227, {'Number_of_Contacts': 38}), (86, 127, {'Number_of_Contacts': 42}), (86, 190, {'Number_of_Contacts': 94}), (127, 185, {'Number_of_Contacts': 10}), (127, 190, {'Number_of_Contacts': 53}), (127, 462, {'Number_of_Contacts': 8}), (87, 174, {'Number_of_Contacts': 20}), (87, 201, {'Number_of_Contacts': 5}), (87, 275, {'Number_of_Contacts': 8}), (87, 448, {'Number_of_Contacts': 5}), (174, 287, {'Number_of_Contacts': 14}), (275, 172, {'Number_of_Contacts': 5}), (275, 349, {'Number_of_Contacts': 4}), (88, 142, {'Number_of_Contacts': 6}), (142, 159, {'Number_of_Contacts': 362}), (89, 209, {'Number_of_Contacts': 11}), (92, 93, {'Number_of_Contacts': 49}), (95, 106, {'Number_of_Contacts': 37}), (95, 107, {'Number_of_Contacts': 53}), (106, 107, {'Number_of_Contacts': 66}), (96, 302, {'Number_of_Contacts': 14}), (302, 118, {'Number_of_Contacts': 54}), (302, 129, {'Number_of_Contacts': 71}), (99, 229, {'Number_of_Contacts': 5}), (101, 438, {'Number_of_Contacts': 53}), (108, 364, {'Number_of_Contacts': 128}), (109, 230, {'Number_of_Contacts': 46}), (118, 129, {'Number_of_Contacts': 72}), (122, 141, {'Number_of_Contacts': 45}), (185, 462, {'Number_of_Contacts': 20}), (130, 352, {'Number_of_Contacts': 19}), (133, 205, {'Number_of_Contacts': 128}), (136, 422, {'Number_of_Contacts': 23}), (147, 233, {'Number_of_Contacts': 30}), (148, 166, {'Number_of_Contacts': 7}), (153, 154, {'Number_of_Contacts': 7}), (153, 249, {'Number_of_Contacts': 5}), (153, 349, {'Number_of_Contacts': 5}), (154, 164, {'Number_of_Contacts': 22}), (154, 356, {'Number_of_Contacts': 5}), (349, 356, {'Number_of_Contacts': 4}), (164, 246, {'Number_of_Contacts': 4}), (164, 356, {'Number_of_Contacts': 12}), (356, 246, {'Number_of_Contacts': 18}), (155, 354, {'Number_of_Contacts': 7}), (155, 366, {'Number_of_Contacts': 21}), (155, 369, {'Number_of_Contacts': 8}), (354, 366, {'Number_of_Contacts': 10}), (366, 369, {'Number_of_Contacts': 9}), (162, 239, {'Number_of_Contacts': 5}), (162, 399, {'Number_of_Contacts': 6}), (239, 399, {'Number_of_Contacts': 24}), (165, 316, {'Number_of_Contacts': 7}), (316, 173, {'Number_of_Contacts': 6}), (179, 235, {'Number_of_Contacts': 116}), (181, 276, {'Number_of_Contacts': 66}), (181, 378, {'Number_of_Contacts': 126}), (276, 378, {'Number_of_Contacts': 36}), (188, 296, {'Number_of_Contacts': 17}), (198, 199, {'Number_of_Contacts': 18}), (198, 200, {'Number_of_Contacts': 64}), (199, 200, {'Number_of_Contacts': 68}), (215, 265, {'Number_of_Contacts': 14}), (215, 375, {'Number_of_Contacts': 40}), (375, 361, {'Number_of_Contacts': 6}), (217, 228, {'Number_of_Contacts': 64}), (217, 283, {'Number_of_Contacts': 135}), (228, 283, {'Number_of_Contacts': 84}), (218, 308, {'Number_of_Contacts': 19}), (325, 460, {'Number_of_Contacts': 260}), (243, 323, {'Number_of_Contacts': 47}), (345, 415, {'Number_of_Contacts': 9}), (269, 370, {'Number_of_Contacts': 5}), (370, 468, {'Number_of_Contacts': 49}), (273, 311, {'Number_of_Contacts': 4}), (311, 286, {'Number_of_Contacts': 77}), (274, 453, {'Number_of_Contacts': 37}), (279, 290, {'Number_of_Contacts': 46}), (289, 335, {'Number_of_Contacts': 8}), (304, 343, {'Number_of_Contacts': 19}), (309, 310, {'Number_of_Contacts': 15}), (322, 396, {'Number_of_Contacts': 197}), (339, 465, {'Number_of_Contacts': 77}), (340, 341, {'Number_of_Contacts': 41}), (341, 347, {'Number_of_Contacts': 8}), (341, 387, {'Number_of_Contacts': 11}), (387, 450, {'Number_of_Contacts': 4}), (387, 455, {'Number_of_Contacts': 11}), (362, 420, {'Number_of_Contacts': 64}), (367, 430, {'Number_of_Contacts': 6}), (384, 439, {'Number_of_Contacts': 8}), (404, 431, {'Number_of_Contacts': 94}), (414, 444, {'Number_of_Contacts': 16}), (426, 442, {'Number_of_Contacts': 38})])"
            ]
          },
          "metadata": {
            "tags": []
          },
          "execution_count": 20
        }
      ]
    },
    {
      "cell_type": "code",
      "metadata": {
        "colab": {
          "base_uri": "https://localhost:8080/"
        },
        "id": "GQdBzatGoFTD",
        "outputId": "70d934e0-15eb-4819-9c6f-80c582a352c7"
      },
      "source": [
        "edges = sorted(G.edges(data=True), key=lambda x: x[2]['Number_of_Contacts'], reverse=True)\n",
        "edges[0:10]"
      ],
      "execution_count": null,
      "outputs": [
        {
          "output_type": "execute_result",
          "data": {
            "text/plain": [
              "[(142, 159, {'Number_of_Contacts': 362}),\n",
              " (75, 183, {'Number_of_Contacts': 301}),\n",
              " (325, 460, {'Number_of_Contacts': 260}),\n",
              " (74, 262, {'Number_of_Contacts': 204}),\n",
              " (295, 332, {'Number_of_Contacts': 203}),\n",
              " (322, 396, {'Number_of_Contacts': 197}),\n",
              " (15, 371, {'Number_of_Contacts': 175}),\n",
              " (52, 408, {'Number_of_Contacts': 171}),\n",
              " (15, 238, {'Number_of_Contacts': 170}),\n",
              " (35, 253, {'Number_of_Contacts': 158})]"
            ]
          },
          "metadata": {
            "tags": []
          },
          "execution_count": 21
        }
      ]
    },
    {
      "cell_type": "markdown",
      "metadata": {
        "id": "oKrOWLJQomQo"
      },
      "source": [
        "## Visualize graph"
      ]
    },
    {
      "cell_type": "code",
      "metadata": {
        "colab": {
          "base_uri": "https://localhost:8080/"
        },
        "id": "ZLEAKOUCoo5g",
        "outputId": "29fc3163-75e9-4eff-ef4e-862a68a76d5c"
      },
      "source": [
        "!apt install libgraphviz-dev --quiet\n",
        "!pip install pygraphviz --quiet"
      ],
      "execution_count": null,
      "outputs": [
        {
          "output_type": "stream",
          "text": [
            "Reading package lists...\n",
            "Building dependency tree...\n",
            "Reading state information...\n",
            "The following additional packages will be installed:\n",
            "  libgail-common libgail18 libgtk2.0-0 libgtk2.0-bin libgtk2.0-common\n",
            "  libgvc6-plugins-gtk libxdot4\n",
            "Suggested packages:\n",
            "  gvfs\n",
            "The following NEW packages will be installed:\n",
            "  libgail-common libgail18 libgraphviz-dev libgtk2.0-0 libgtk2.0-bin\n",
            "  libgtk2.0-common libgvc6-plugins-gtk libxdot4\n",
            "0 upgraded, 8 newly installed, 0 to remove and 29 not upgraded.\n",
            "Need to get 2,120 kB of archives.\n",
            "After this operation, 7,128 kB of additional disk space will be used.\n",
            "Get:1 http://archive.ubuntu.com/ubuntu bionic/main amd64 libgtk2.0-common all 2.24.32-1ubuntu1 [125 kB]\n",
            "Get:2 http://archive.ubuntu.com/ubuntu bionic/main amd64 libgtk2.0-0 amd64 2.24.32-1ubuntu1 [1,769 kB]\n",
            "Get:3 http://archive.ubuntu.com/ubuntu bionic/main amd64 libgail18 amd64 2.24.32-1ubuntu1 [14.2 kB]\n",
            "Get:4 http://archive.ubuntu.com/ubuntu bionic/main amd64 libgail-common amd64 2.24.32-1ubuntu1 [112 kB]\n",
            "Get:5 http://archive.ubuntu.com/ubuntu bionic/universe amd64 libxdot4 amd64 2.40.1-2 [15.7 kB]\n",
            "Get:6 http://archive.ubuntu.com/ubuntu bionic/universe amd64 libgvc6-plugins-gtk amd64 2.40.1-2 [18.2 kB]\n",
            "Get:7 http://archive.ubuntu.com/ubuntu bionic/universe amd64 libgraphviz-dev amd64 2.40.1-2 [57.3 kB]\n",
            "Get:8 http://archive.ubuntu.com/ubuntu bionic/main amd64 libgtk2.0-bin amd64 2.24.32-1ubuntu1 [7,536 B]\n",
            "Fetched 2,120 kB in 1s (2,255 kB/s)\n",
            "Selecting previously unselected package libgtk2.0-common.\n",
            "(Reading database ... 160975 files and directories currently installed.)\n",
            "Preparing to unpack .../0-libgtk2.0-common_2.24.32-1ubuntu1_all.deb ...\n",
            "Unpacking libgtk2.0-common (2.24.32-1ubuntu1) ...\n",
            "Selecting previously unselected package libgtk2.0-0:amd64.\n",
            "Preparing to unpack .../1-libgtk2.0-0_2.24.32-1ubuntu1_amd64.deb ...\n",
            "Unpacking libgtk2.0-0:amd64 (2.24.32-1ubuntu1) ...\n",
            "Selecting previously unselected package libgail18:amd64.\n",
            "Preparing to unpack .../2-libgail18_2.24.32-1ubuntu1_amd64.deb ...\n",
            "Unpacking libgail18:amd64 (2.24.32-1ubuntu1) ...\n",
            "Selecting previously unselected package libgail-common:amd64.\n",
            "Preparing to unpack .../3-libgail-common_2.24.32-1ubuntu1_amd64.deb ...\n",
            "Unpacking libgail-common:amd64 (2.24.32-1ubuntu1) ...\n",
            "Selecting previously unselected package libxdot4.\n",
            "Preparing to unpack .../4-libxdot4_2.40.1-2_amd64.deb ...\n",
            "Unpacking libxdot4 (2.40.1-2) ...\n",
            "Selecting previously unselected package libgvc6-plugins-gtk.\n",
            "Preparing to unpack .../5-libgvc6-plugins-gtk_2.40.1-2_amd64.deb ...\n",
            "Unpacking libgvc6-plugins-gtk (2.40.1-2) ...\n",
            "Selecting previously unselected package libgraphviz-dev.\n",
            "Preparing to unpack .../6-libgraphviz-dev_2.40.1-2_amd64.deb ...\n",
            "Unpacking libgraphviz-dev (2.40.1-2) ...\n",
            "Selecting previously unselected package libgtk2.0-bin.\n",
            "Preparing to unpack .../7-libgtk2.0-bin_2.24.32-1ubuntu1_amd64.deb ...\n",
            "Unpacking libgtk2.0-bin (2.24.32-1ubuntu1) ...\n",
            "Setting up libgtk2.0-common (2.24.32-1ubuntu1) ...\n",
            "Setting up libxdot4 (2.40.1-2) ...\n",
            "Setting up libgtk2.0-0:amd64 (2.24.32-1ubuntu1) ...\n",
            "Setting up libgail18:amd64 (2.24.32-1ubuntu1) ...\n",
            "Setting up libgail-common:amd64 (2.24.32-1ubuntu1) ...\n",
            "Setting up libgvc6-plugins-gtk (2.40.1-2) ...\n",
            "Setting up libgraphviz-dev (2.40.1-2) ...\n",
            "Setting up libgtk2.0-bin (2.24.32-1ubuntu1) ...\n",
            "Processing triggers for man-db (2.8.3-2ubuntu0.1) ...\n",
            "Processing triggers for libc-bin (2.27-3ubuntu1.2) ...\n",
            "/sbin/ldconfig.real: /usr/local/lib/python3.7/dist-packages/ideep4py/lib/libmkldnn.so.0 is not a symbolic link\n",
            "\n",
            "\u001b[K     |████████████████████████████████| 122kB 5.5MB/s \n",
            "\u001b[?25h  Building wheel for pygraphviz (setup.py) ... \u001b[?25l\u001b[?25hdone\n"
          ],
          "name": "stdout"
        }
      ]
    },
    {
      "cell_type": "code",
      "metadata": {
        "colab": {
          "base_uri": "https://localhost:8080/",
          "height": 1000
        },
        "id": "a6ccf40-o5ZR",
        "outputId": "9650a134-2c42-4aac-ea1d-d48dc917917b"
      },
      "source": [
        "import graphviz\n",
        "\n",
        "plt.figure(figsize=(20, 14))\n",
        "\n",
        "nx.draw(G, pos = nx.nx_pydot.graphviz_layout(G),\n",
        "  node_size=1200, node_color='lightblue', linewidths=0.25,\n",
        "  font_size=10, font_weight='bold', with_labels=True)\n",
        "\n",
        "plt.show()"
      ],
      "execution_count": null,
      "outputs": [
        {
          "output_type": "display_data",
          "data": {
            "image/png": "[encoded data removed]",
            "text/plain": [
              "<Figure size 1440x1008 with 1 Axes>"
            ]
          },
          "metadata": {
            "tags": []
          }
        }
      ]
    },
    {
      "cell_type": "markdown",
      "metadata": {
        "id": "_-5O9ykWqDly"
      },
      "source": [
        "## Graph metrics"
      ]
    },
    {
      "cell_type": "code",
      "metadata": {
        "colab": {
          "base_uri": "https://localhost:8080/"
        },
        "id": "LORsOlX9qCpc",
        "outputId": "38aaf328-20a5-49ad-a30a-b7889482a166"
      },
      "source": [
        "nx.density(G)"
      ],
      "execution_count": null,
      "outputs": [
        {
          "output_type": "execute_result",
          "data": {
            "text/plain": [
              "0.007537801850598059"
            ]
          },
          "metadata": {
            "tags": []
          },
          "execution_count": 24
        }
      ]
    },
    {
      "cell_type": "code",
      "metadata": {
        "id": "LaOoYt1sqaGG"
      },
      "source": [
        "#nx.average_shortest_path_length(G)"
      ],
      "execution_count": null,
      "outputs": []
    },
    {
      "cell_type": "code",
      "metadata": {
        "colab": {
          "base_uri": "https://localhost:8080/"
        },
        "id": "W3ejaK1aqk0U",
        "outputId": "6342a4d7-ebbf-4f4b-8c4d-cd6d7dc6caf1"
      },
      "source": [
        "nx.dijkstra_path(G, 246, 287)"
      ],
      "execution_count": null,
      "outputs": [
        {
          "output_type": "execute_result",
          "data": {
            "text/plain": [
              "[246, 356, 349, 275, 87, 174, 287]"
            ]
          },
          "metadata": {
            "tags": []
          },
          "execution_count": 26
        }
      ]
    },
    {
      "cell_type": "code",
      "metadata": {
        "colab": {
          "base_uri": "https://localhost:8080/"
        },
        "id": "8zfTqdvmqy3E",
        "outputId": "82a6c98d-6613-466c-963f-3e4e1931dfa9"
      },
      "source": [
        "len(nx.dijkstra_path(G, 246, 287))-1"
      ],
      "execution_count": null,
      "outputs": [
        {
          "output_type": "execute_result",
          "data": {
            "text/plain": [
              "6"
            ]
          },
          "metadata": {
            "tags": []
          },
          "execution_count": 27
        }
      ]
    },
    {
      "cell_type": "code",
      "metadata": {
        "colab": {
          "base_uri": "https://localhost:8080/"
        },
        "id": "ZjWxI5HQq-KR",
        "outputId": "3efd5797-9c1f-46dc-91f4-c0b63ce82726"
      },
      "source": [
        "nx.shortest_path(G, source=246, target=287)"
      ],
      "execution_count": null,
      "outputs": [
        {
          "output_type": "execute_result",
          "data": {
            "text/plain": [
              "[246, 356, 349, 275, 87, 174, 287]"
            ]
          },
          "metadata": {
            "tags": []
          },
          "execution_count": 28
        }
      ]
    },
    {
      "cell_type": "code",
      "metadata": {
        "id": "E_7bQ4AYrF3j"
      },
      "source": [
        "#nx.diameter(G)"
      ],
      "execution_count": null,
      "outputs": []
    },
    {
      "cell_type": "code",
      "metadata": {
        "colab": {
          "base_uri": "https://localhost:8080/"
        },
        "id": "ptvzbwXnrRqw",
        "outputId": "37ba8c06-1006-46d1-9190-6831aa75eddc"
      },
      "source": [
        "nx.is_connected(G)"
      ],
      "execution_count": null,
      "outputs": [
        {
          "output_type": "execute_result",
          "data": {
            "text/plain": [
              "False"
            ]
          },
          "metadata": {
            "tags": []
          },
          "execution_count": 30
        }
      ]
    },
    {
      "cell_type": "markdown",
      "metadata": {
        "id": "eV1uDr-FrmEQ"
      },
      "source": [
        "## Connected Components"
      ]
    },
    {
      "cell_type": "code",
      "metadata": {
        "id": "Fe7MErnTrocu"
      },
      "source": [
        "components = nx.connected_components(G)\n",
        "largest_component = max(components, key=len)"
      ],
      "execution_count": null,
      "outputs": []
    },
    {
      "cell_type": "code",
      "metadata": {
        "colab": {
          "base_uri": "https://localhost:8080/"
        },
        "id": "zmNbrDUAr_UQ",
        "outputId": "d18656ff-3a69-43aa-d87f-01f34121cd01"
      },
      "source": [
        "type(largest_component)"
      ],
      "execution_count": null,
      "outputs": [
        {
          "output_type": "execute_result",
          "data": {
            "text/plain": [
              "set"
            ]
          },
          "metadata": {
            "tags": []
          },
          "execution_count": 32
        }
      ]
    },
    {
      "cell_type": "code",
      "metadata": {
        "id": "Seu3YKlQr6E5"
      },
      "source": [
        "subG = G.subgraph(largest_component)"
      ],
      "execution_count": null,
      "outputs": []
    },
    {
      "cell_type": "code",
      "metadata": {
        "colab": {
          "base_uri": "https://localhost:8080/"
        },
        "id": "ER1D-S6-sIQY",
        "outputId": "848b912b-f55e-4d44-d471-b85e6d32a0ed"
      },
      "source": [
        "nx.diameter(subG)"
      ],
      "execution_count": null,
      "outputs": [
        {
          "output_type": "execute_result",
          "data": {
            "text/plain": [
              "6"
            ]
          },
          "metadata": {
            "tags": []
          },
          "execution_count": 34
        }
      ]
    },
    {
      "cell_type": "code",
      "metadata": {
        "colab": {
          "base_uri": "https://localhost:8080/"
        },
        "id": "79RoryvzsK15",
        "outputId": "f07b9179-d5ed-49be-a08e-7a19ae0668bd"
      },
      "source": [
        "nx.average_shortest_path_length(subG)"
      ],
      "execution_count": null,
      "outputs": [
        {
          "output_type": "execute_result",
          "data": {
            "text/plain": [
              "3.0549450549450547"
            ]
          },
          "metadata": {
            "tags": []
          },
          "execution_count": 35
        }
      ]
    },
    {
      "cell_type": "code",
      "metadata": {
        "colab": {
          "base_uri": "https://localhost:8080/",
          "height": 607
        },
        "id": "XAkQg3AmsQrh",
        "outputId": "264b80e1-d4dd-465d-81f3-0e830cab3bc0"
      },
      "source": [
        "plt.figure(figsize=(8, 8))\n",
        "\n",
        "nx.draw(subG, pos = nx.nx_pydot.graphviz_layout(subG),\n",
        "  node_size=1000, node_color='lightblue', linewidths=0.25,\n",
        "  font_size=10, font_weight='bold', with_labels=True)\n",
        "\n",
        "plt.show()"
      ],
      "execution_count": null,
      "outputs": [
        {
          "output_type": "display_data",
          "data": {
            "image/png": "[encoded data removed]",
            "text/plain": [
              "<Figure size 576x576 with 1 Axes>"
            ]
          },
          "metadata": {
            "tags": []
          }
        }
      ]
    },
    {
      "cell_type": "markdown",
      "metadata": {
        "id": "BXr1GIfvspt9"
      },
      "source": [
        "## Triadic Closure"
      ]
    },
    {
      "cell_type": "code",
      "metadata": {
        "colab": {
          "base_uri": "https://localhost:8080/"
        },
        "id": "8JAJ_MzYs1YP",
        "outputId": "7a91aaf3-f750-475b-d3af-55e30c81ac26"
      },
      "source": [
        "nx.transitivity(subG)"
      ],
      "execution_count": null,
      "outputs": [
        {
          "output_type": "execute_result",
          "data": {
            "text/plain": [
              "0.20689655172413793"
            ]
          },
          "metadata": {
            "tags": []
          },
          "execution_count": 37
        }
      ]
    },
    {
      "cell_type": "code",
      "metadata": {
        "colab": {
          "base_uri": "https://localhost:8080/"
        },
        "id": "wYThZBWXs9dU",
        "outputId": "387d14e8-65b4-4462-feda-c0b25005c10d"
      },
      "source": [
        "nx.transitivity(G)"
      ],
      "execution_count": null,
      "outputs": [
        {
          "output_type": "execute_result",
          "data": {
            "text/plain": [
              "0.5028901734104047"
            ]
          },
          "metadata": {
            "tags": []
          },
          "execution_count": 38
        }
      ]
    },
    {
      "cell_type": "markdown",
      "metadata": {
        "id": "vW02YK7NtFEL"
      },
      "source": [
        "## **Centrality Measures**"
      ]
    },
    {
      "cell_type": "markdown",
      "metadata": {
        "id": "CpZch5R_v3pp"
      },
      "source": [
        "### Degree"
      ]
    },
    {
      "cell_type": "code",
      "metadata": {
        "id": "ef7S91iluKnj"
      },
      "source": [
        "degree_dict = dict(G.degree(G.nodes()))"
      ],
      "execution_count": null,
      "outputs": []
    },
    {
      "cell_type": "code",
      "metadata": {
        "id": "us9ctQHCuRzo"
      },
      "source": [
        "nx.set_node_attributes(G, degree_dict, 'degree')"
      ],
      "execution_count": null,
      "outputs": []
    },
    {
      "cell_type": "code",
      "metadata": {
        "colab": {
          "base_uri": "https://localhost:8080/"
        },
        "id": "XDNxpeCFuWjS",
        "outputId": "e6100b61-7cfb-4080-f1ed-34c35a406ae1"
      },
      "source": [
        "print(G.nodes[275])"
      ],
      "execution_count": null,
      "outputs": [
        {
          "output_type": "stream",
          "text": [
            "{'degree': 3}\n"
          ],
          "name": "stdout"
        }
      ]
    },
    {
      "cell_type": "code",
      "metadata": {
        "id": "VnUb1VT2ueDB"
      },
      "source": [
        "from operator import itemgetter\n",
        "sorted_degree = sorted(degree_dict.items(), key=itemgetter(1), reverse=True)"
      ],
      "execution_count": null,
      "outputs": []
    },
    {
      "cell_type": "code",
      "metadata": {
        "colab": {
          "base_uri": "https://localhost:8080/"
        },
        "id": "GJU9oZIKuwdz",
        "outputId": "18508e90-eb90-4309-e47c-c1999a5b163c"
      },
      "source": [
        "print(\"Top 10 nodes by degree:\")\n",
        "for d in sorted_degree[:10]:\n",
        "  print(d)"
      ],
      "execution_count": null,
      "outputs": [
        {
          "output_type": "stream",
          "text": [
            "Top 10 nodes by degree:\n",
            "(400, 5)\n",
            "(48, 4)\n",
            "(49, 4)\n",
            "(295, 4)\n",
            "(332, 4)\n",
            "(189, 4)\n",
            "(127, 4)\n",
            "(87, 4)\n",
            "(302, 4)\n",
            "(356, 4)\n"
          ],
          "name": "stdout"
        }
      ]
    },
    {
      "cell_type": "code",
      "metadata": {
        "colab": {
          "base_uri": "https://localhost:8080/"
        },
        "id": "SVsfZJn1vC_9",
        "outputId": "948469c7-b31a-4b5d-b08f-9c0f40205d3d"
      },
      "source": [
        "G.edges(400)"
      ],
      "execution_count": null,
      "outputs": [
        {
          "output_type": "execute_result",
          "data": {
            "text/plain": [
              "EdgeDataView([(400, 35), (400, 96), (400, 214), (400, 253), (400, 302)])"
            ]
          },
          "metadata": {
            "tags": []
          },
          "execution_count": 44
        }
      ]
    },
    {
      "cell_type": "code",
      "metadata": {
        "colab": {
          "base_uri": "https://localhost:8080/"
        },
        "id": "Epvl6A-SvQS-",
        "outputId": "59c62330-0b86-452f-ef8b-4662f3b80cff"
      },
      "source": [
        "G.get_edge_data(400, 35)"
      ],
      "execution_count": null,
      "outputs": [
        {
          "output_type": "execute_result",
          "data": {
            "text/plain": [
              "{'Number_of_Contacts': 60}"
            ]
          },
          "metadata": {
            "tags": []
          },
          "execution_count": 45
        }
      ]
    },
    {
      "cell_type": "markdown",
      "metadata": {
        "id": "_JFebsuUv67n"
      },
      "source": [
        "### Betweenness"
      ]
    },
    {
      "cell_type": "code",
      "metadata": {
        "colab": {
          "base_uri": "https://localhost:8080/"
        },
        "id": "HAsXgTdRv8ec",
        "outputId": "ef56cbc4-4d96-4c33-d430-1d9c345e1f14"
      },
      "source": [
        "betweenness_dict = dict(nx.betweenness_centrality(G))\n",
        "nx.set_node_attributes(G, betweenness_dict, 'betweenness')\n",
        "sorted_betweenness = sorted(betweenness_dict.items(), key=itemgetter(1), reverse=True)\n",
        "print(\"Top 10 nodes by betweenness:\")\n",
        "for d in sorted_betweenness[:10]:\n",
        "  print(d)"
      ],
      "execution_count": null,
      "outputs": [
        {
          "output_type": "stream",
          "text": [
            "Top 10 nodes by betweenness:\n",
            "(275, 0.0021417179311916156)\n",
            "(349, 0.001989823042454622)\n",
            "(87, 0.0018683071314650262)\n",
            "(49, 0.0013214855320118478)\n",
            "(263, 0.0010480747322852587)\n",
            "(356, 0.0009949115212273107)\n",
            "(153, 0.0007290954659375712)\n",
            "(400, 0.0006379585326953748)\n",
            "(174, 0.0005468215994531784)\n",
            "(302, 0.00045568466621098203)\n"
          ],
          "name": "stdout"
        }
      ]
    },
    {
      "cell_type": "markdown",
      "metadata": {
        "id": "tCgcSOIWwgMR"
      },
      "source": [
        "### Closeness"
      ]
    },
    {
      "cell_type": "code",
      "metadata": {
        "colab": {
          "base_uri": "https://localhost:8080/"
        },
        "id": "GCb25VAPwhlL",
        "outputId": "f6d81b46-dfbf-471f-90a9-5fa1d0c0d5ee"
      },
      "source": [
        "closeness_dict = dict(nx.closeness_centrality(G))\n",
        "nx.set_node_attributes(G, closeness_dict, 'closeness')\n",
        "sorted_closeness = sorted(closeness_dict.items(), key=itemgetter(1), reverse=True)\n",
        "print(\"Top 10 nodes by closeness:\")\n",
        "for d in sorted_closeness[:10]:\n",
        "  print(d)"
      ],
      "execution_count": null,
      "outputs": [
        {
          "output_type": "stream",
          "text": [
            "Top 10 nodes by closeness:\n",
            "(275, 0.02874149659863946)\n",
            "(349, 0.02874149659863946)\n",
            "(49, 0.026455026455026454)\n",
            "(400, 0.025925925925925925)\n",
            "(87, 0.025148809523809525)\n",
            "(48, 0.023809523809523808)\n",
            "(295, 0.023809523809523808)\n",
            "(356, 0.023669467787114845)\n",
            "(302, 0.02333333333333333)\n",
            "(153, 0.022993197278911567)\n"
          ],
          "name": "stdout"
        }
      ]
    },
    {
      "cell_type": "markdown",
      "metadata": {
        "id": "YlSGeJzwwjyp"
      },
      "source": [
        "### Eigenvector"
      ]
    },
    {
      "cell_type": "code",
      "metadata": {
        "colab": {
          "base_uri": "https://localhost:8080/"
        },
        "id": "YFDtYM4kwlBm",
        "outputId": "22412a2a-daf0-4af0-c36c-dd3cf203c6f8"
      },
      "source": [
        "eigenvector_dict = dict(nx.eigenvector_centrality(G))\n",
        "nx.set_node_attributes(G, eigenvector_dict, 'eigenvector')\n",
        "sorted_eigenvector = sorted(eigenvector_dict.items(), key=itemgetter(1), reverse=True)\n",
        "print(\"Top 10 nodes by eigenvector:\")\n",
        "for d in sorted_eigenvector[:10]:\n",
        "  print(d)"
      ],
      "execution_count": null,
      "outputs": [
        {
          "output_type": "stream",
          "text": [
            "Top 10 nodes by eigenvector:\n",
            "(48, 0.48765916017174854)\n",
            "(295, 0.48765916017174854)\n",
            "(332, 0.4381807577937035)\n",
            "(318, 0.40964718173204195)\n",
            "(49, 0.34719449580000933)\n",
            "(333, 0.12698947972145622)\n",
            "(263, 0.12206532930528517)\n",
            "(449, 0.10062068586899063)\n",
            "(345, 0.038619502374009754)\n",
            "(178, 0.035375840642925524)\n"
          ],
          "name": "stdout"
        }
      ]
    },
    {
      "cell_type": "markdown",
      "metadata": {
        "id": "E3rToj1iwlbH"
      },
      "source": [
        "### PageRank"
      ]
    },
    {
      "cell_type": "code",
      "metadata": {
        "colab": {
          "base_uri": "https://localhost:8080/"
        },
        "id": "ID6BC1IkwmxP",
        "outputId": "23dbd871-1407-4726-977f-4a44f7555c32"
      },
      "source": [
        "pagerank_dict = dict(nx.pagerank(G))\n",
        "nx.set_node_attributes(G, pagerank_dict, 'pagerank')\n",
        "sorted_pagerank = sorted(pagerank_dict.items(), key=itemgetter(1), reverse=True)\n",
        "print(\"Top 10 nodes by pagerank:\")\n",
        "for d in sorted_pagerank[:10]:\n",
        "  print(d)"
      ],
      "execution_count": null,
      "outputs": [
        {
          "output_type": "stream",
          "text": [
            "Top 10 nodes by pagerank:\n",
            "(87, 0.009280706951756132)\n",
            "(400, 0.009094546137164277)\n",
            "(341, 0.008167792674720209)\n",
            "(387, 0.008167792674720207)\n",
            "(127, 0.007566309137773224)\n",
            "(302, 0.007164860542506848)\n",
            "(49, 0.00711813242947003)\n",
            "(337, 0.006952338623936199)\n",
            "(191, 0.0069106026727494)\n",
            "(39, 0.0069106026727494)\n"
          ],
          "name": "stdout"
        }
      ]
    },
    {
      "cell_type": "markdown",
      "metadata": {
        "id": "SxaVZ3KxxZM7"
      },
      "source": [
        "### Eigenvector vs. Degree"
      ]
    },
    {
      "cell_type": "code",
      "metadata": {
        "colab": {
          "base_uri": "https://localhost:8080/"
        },
        "id": "YrRmC05LxbU5",
        "outputId": "ea42da28-7f18-40b1-9d54-212c699b3278"
      },
      "source": [
        "top_eigenvector = sorted_eigenvector[:10]\n",
        "\n",
        "for te in top_eigenvector:\n",
        "    degree = degree_dict[te[0]]\n",
        "    print(\"Name: \", te[0], \"| Eigenvector centrality: \", te[1], \" | Degree centrality: \", degree)"
      ],
      "execution_count": null,
      "outputs": [
        {
          "output_type": "stream",
          "text": [
            "Name:  48 | Eigenvector centrality:  0.48765916017174854  | Degree centrality:  4\n",
            "Name:  295 | Eigenvector centrality:  0.48765916017174854  | Degree centrality:  4\n",
            "Name:  332 | Eigenvector centrality:  0.4381807577937035  | Degree centrality:  4\n",
            "Name:  318 | Eigenvector centrality:  0.40964718173204195  | Degree centrality:  3\n",
            "Name:  49 | Eigenvector centrality:  0.34719449580000933  | Degree centrality:  4\n",
            "Name:  333 | Eigenvector centrality:  0.12698947972145622  | Degree centrality:  1\n",
            "Name:  263 | Eigenvector centrality:  0.12206532930528517  | Degree centrality:  3\n",
            "Name:  449 | Eigenvector centrality:  0.10062068586899063  | Degree centrality:  1\n",
            "Name:  345 | Eigenvector centrality:  0.038619502374009754  | Degree centrality:  2\n",
            "Name:  178 | Eigenvector centrality:  0.035375840642925524  | Degree centrality:  1\n"
          ],
          "name": "stdout"
        }
      ]
    },
    {
      "cell_type": "code",
      "metadata": {
        "colab": {
          "base_uri": "https://localhost:8080/"
        },
        "id": "kIuglQ-ayIMl",
        "outputId": "0f172bf5-0dd3-46e3-faed-b3c4cc0ef8e1"
      },
      "source": [
        "G.edges(48)"
      ],
      "execution_count": null,
      "outputs": [
        {
          "output_type": "execute_result",
          "data": {
            "text/plain": [
              "EdgeDataView([(48, 49), (48, 295), (48, 318), (48, 332)])"
            ]
          },
          "metadata": {
            "tags": []
          },
          "execution_count": 51
        }
      ]
    },
    {
      "cell_type": "code",
      "metadata": {
        "colab": {
          "base_uri": "https://localhost:8080/"
        },
        "id": "X15Pbh3_yd5c",
        "outputId": "6bfa3e3f-01d6-4319-c345-af77b1489a9a"
      },
      "source": [
        "G.get_edge_data(48, 49)"
      ],
      "execution_count": null,
      "outputs": [
        {
          "output_type": "execute_result",
          "data": {
            "text/plain": [
              "{'Number_of_Contacts': 10}"
            ]
          },
          "metadata": {
            "tags": []
          },
          "execution_count": 52
        }
      ]
    },
    {
      "cell_type": "markdown",
      "metadata": {
        "id": "KJRDRqnlzBT1"
      },
      "source": [
        "## Communnity Detection"
      ]
    },
    {
      "cell_type": "code",
      "metadata": {
        "id": "d6rWTcD2zFrC"
      },
      "source": [
        "from networkx.algorithms import community\n",
        "greedy_communities = community.greedy_modularity_communities(G)"
      ],
      "execution_count": null,
      "outputs": []
    },
    {
      "cell_type": "code",
      "metadata": {
        "colab": {
          "base_uri": "https://localhost:8080/"
        },
        "id": "vYzIktokzWB3",
        "outputId": "0e5377b3-fe42-45c9-af6d-bc2123486bee"
      },
      "source": [
        "len(greedy_communities)"
      ],
      "execution_count": null,
      "outputs": [
        {
          "output_type": "execute_result",
          "data": {
            "text/plain": [
              "72"
            ]
          },
          "metadata": {
            "tags": []
          },
          "execution_count": 54
        }
      ]
    },
    {
      "cell_type": "code",
      "metadata": {
        "id": "LIR0R6vqzczf"
      },
      "source": [
        "import community\n",
        "best_communities = community.best_partition(G)"
      ],
      "execution_count": null,
      "outputs": []
    },
    {
      "cell_type": "code",
      "metadata": {
        "colab": {
          "base_uri": "https://localhost:8080/"
        },
        "id": "wx8eX4JvzxCC",
        "outputId": "5a8fb639-3b7b-4368-87f7-6dc04fd5de5e"
      },
      "source": [
        "len(best_communities)"
      ],
      "execution_count": null,
      "outputs": [
        {
          "output_type": "execute_result",
          "data": {
            "text/plain": [
              "211"
            ]
          },
          "metadata": {
            "tags": []
          },
          "execution_count": 56
        }
      ]
    },
    {
      "cell_type": "code",
      "metadata": {
        "colab": {
          "base_uri": "https://localhost:8080/"
        },
        "id": "n5ioOSLGz9yt",
        "outputId": "5429a85b-dc5c-4ad9-90c3-98b783181c01"
      },
      "source": [
        "greedy_communities[0]"
      ],
      "execution_count": null,
      "outputs": [
        {
          "output_type": "execute_result",
          "data": {
            "text/plain": [
              "frozenset({87,\n",
              "           153,\n",
              "           154,\n",
              "           164,\n",
              "           172,\n",
              "           174,\n",
              "           201,\n",
              "           246,\n",
              "           249,\n",
              "           275,\n",
              "           287,\n",
              "           349,\n",
              "           356,\n",
              "           448})"
            ]
          },
          "metadata": {
            "tags": []
          },
          "execution_count": 57
        }
      ]
    },
    {
      "cell_type": "code",
      "metadata": {
        "colab": {
          "base_uri": "https://localhost:8080/"
        },
        "id": "B38d7KQn0CED",
        "outputId": "77660d56-27fe-4412-a9e2-06f6ff472bd6"
      },
      "source": [
        "type(best_communities)"
      ],
      "execution_count": null,
      "outputs": [
        {
          "output_type": "execute_result",
          "data": {
            "text/plain": [
              "dict"
            ]
          },
          "metadata": {
            "tags": []
          },
          "execution_count": 58
        }
      ]
    },
    {
      "cell_type": "code",
      "metadata": {
        "colab": {
          "base_uri": "https://localhost:8080/"
        },
        "id": "vcpzXMlG0mfI",
        "outputId": "6682a06b-024a-4258-bd48-ec9af4860f95"
      },
      "source": [
        "best_communities.keys()"
      ],
      "execution_count": null,
      "outputs": [
        {
          "output_type": "execute_result",
          "data": {
            "text/plain": [
              "dict_keys([1, 390, 2, 21, 3, 234, 389, 4, 196, 8, 10, 12, 342, 13, 437, 14, 307, 337, 15, 238, 371, 16, 191, 19, 403, 26, 30, 60, 28, 357, 32, 180, 182, 195, 35, 253, 400, 36, 301, 457, 38, 452, 39, 171, 334, 44, 242, 427, 46, 47, 291, 48, 49, 295, 318, 332, 263, 449, 52, 408, 57, 58, 189, 61, 197, 65, 421, 72, 73, 74, 262, 75, 183, 80, 245, 83, 163, 380, 84, 227, 86, 127, 190, 87, 174, 201, 275, 448, 88, 142, 89, 209, 92, 93, 95, 106, 107, 96, 302, 99, 229, 101, 438, 108, 364, 109, 230, 118, 129, 122, 141, 185, 462, 130, 352, 133, 205, 136, 422, 159, 147, 233, 148, 166, 153, 154, 249, 349, 164, 356, 155, 354, 366, 369, 162, 239, 399, 454, 246, 165, 316, 172, 173, 287, 178, 179, 235, 181, 276, 378, 188, 296, 198, 199, 200, 214, 215, 265, 375, 217, 228, 283, 218, 308, 325, 243, 323, 345, 269, 370, 273, 311, 274, 453, 279, 290, 286, 289, 335, 304, 343, 309, 310, 322, 396, 460, 333, 336, 339, 465, 340, 341, 347, 387, 415, 361, 362, 420, 367, 430, 468, 384, 439, 450, 455, 404, 431, 414, 444, 426, 442])"
            ]
          },
          "metadata": {
            "tags": []
          },
          "execution_count": 59
        }
      ]
    },
    {
      "cell_type": "code",
      "metadata": {
        "colab": {
          "base_uri": "https://localhost:8080/"
        },
        "id": "D1yAlM3I032V",
        "outputId": "1a23b84a-9910-410b-e8fd-8dd9fa662b4a"
      },
      "source": [
        "best_communities.values()"
      ],
      "execution_count": null,
      "outputs": [
        {
          "output_type": "execute_result",
          "data": {
            "text/plain": [
              "dict_values([0, 0, 1, 1, 2, 2, 2, 3, 3, 4, 4, 5, 5, 6, 6, 7, 7, 7, 8, 8, 8, 9, 9, 10, 10, 11, 11, 11, 12, 12, 13, 13, 13, 13, 14, 14, 14, 15, 15, 15, 16, 16, 17, 17, 17, 18, 18, 18, 9, 19, 19, 20, 20, 20, 20, 20, 20, 20, 21, 21, 22, 22, 22, 23, 23, 24, 24, 25, 25, 26, 26, 27, 27, 28, 28, 29, 29, 29, 30, 30, 31, 31, 31, 32, 32, 32, 32, 32, 34, 34, 35, 35, 36, 36, 37, 37, 37, 14, 14, 28, 28, 38, 38, 39, 39, 40, 40, 14, 14, 41, 41, 31, 31, 42, 42, 43, 43, 44, 44, 34, 45, 45, 46, 46, 32, 32, 32, 32, 32, 32, 47, 47, 47, 47, 48, 48, 48, 29, 32, 49, 49, 32, 49, 32, 20, 50, 50, 22, 22, 22, 51, 51, 52, 52, 52, 14, 53, 53, 53, 54, 54, 54, 55, 55, 18, 56, 56, 20, 57, 57, 58, 58, 59, 59, 60, 60, 58, 61, 61, 62, 62, 63, 63, 64, 64, 18, 20, 7, 65, 65, 66, 66, 66, 66, 20, 53, 67, 67, 68, 68, 57, 69, 69, 66, 66, 70, 70, 71, 71, 33, 33])"
            ]
          },
          "metadata": {
            "tags": []
          },
          "execution_count": 60
        }
      ]
    },
    {
      "cell_type": "code",
      "metadata": {
        "colab": {
          "base_uri": "https://localhost:8080/"
        },
        "id": "TEuJ_tkM1H1f",
        "outputId": "8212939a-5e3e-424c-a03d-bae7644c3b84"
      },
      "source": [
        "for i, c in enumerate(greedy_communities):\n",
        "  print(i, c)"
      ],
      "execution_count": null,
      "outputs": [
        {
          "output_type": "stream",
          "text": [
            "0 frozenset({448, 356, 164, 249, 201, 172, 174, 275, 246, 87, 153, 154, 349, 287})\n",
            "1 frozenset({449, 295, 263, 332, 333, 48, 49, 178, 345, 318, 415})\n",
            "2 frozenset({96, 129, 35, 302, 400, 118, 214, 253})\n",
            "3 frozenset({58, 276, 181, 57, 378, 189})\n",
            "4 frozenset({450, 387, 455, 340, 341, 347})\n",
            "5 frozenset({462, 86, 185, 190, 127})\n",
            "6 frozenset({325, 427, 460, 44, 242})\n",
            "7 frozenset({32, 195, 180, 182})\n",
            "8 frozenset({80, 229, 99, 245})\n",
            "9 frozenset({369, 354, 155, 366})\n",
            "10 frozenset({83, 380, 163, 454})\n",
            "11 frozenset({336, 337, 307, 14})\n",
            "12 frozenset({361, 375, 265, 215})\n",
            "13 frozenset({234, 3, 389})\n",
            "14 frozenset({371, 238, 15})\n",
            "15 frozenset({26, 60, 30})\n",
            "16 frozenset({457, 36, 301})\n",
            "17 frozenset({171, 334, 39})\n",
            "18 frozenset({16, 46, 191})\n",
            "19 frozenset({106, 107, 95})\n",
            "20 frozenset({88, 142, 159})\n",
            "21 frozenset({162, 239, 399})\n",
            "22 frozenset({316, 165, 173})\n",
            "23 frozenset({200, 198, 199})\n",
            "24 frozenset({217, 283, 228})\n",
            "25 frozenset({273, 286, 311})\n",
            "26 frozenset({370, 468, 269})\n",
            "27 frozenset({1, 390})\n",
            "28 frozenset({2, 21})\n",
            "29 frozenset({196, 4})\n",
            "30 frozenset({8, 10})\n",
            "31 frozenset({12, 342})\n",
            "32 frozenset({13, 437})\n",
            "33 frozenset({19, 403})\n",
            "34 frozenset({28, 357})\n",
            "35 frozenset({452, 38})\n",
            "36 frozenset({291, 47})\n",
            "37 frozenset({408, 52})\n",
            "38 frozenset({61, 197})\n",
            "39 frozenset({65, 421})\n",
            "40 frozenset({72, 73})\n",
            "41 frozenset({74, 262})\n",
            "42 frozenset({75, 183})\n",
            "43 frozenset({227, 84})\n",
            "44 frozenset({89, 209})\n",
            "45 frozenset({92, 93})\n",
            "46 frozenset({101, 438})\n",
            "47 frozenset({108, 364})\n",
            "48 frozenset({109, 230})\n",
            "49 frozenset({122, 141})\n",
            "50 frozenset({352, 130})\n",
            "51 frozenset({205, 133})\n",
            "52 frozenset({136, 422})\n",
            "53 frozenset({233, 147})\n",
            "54 frozenset({148, 166})\n",
            "55 frozenset({179, 235})\n",
            "56 frozenset({296, 188})\n",
            "57 frozenset({218, 308})\n",
            "58 frozenset({323, 243})\n",
            "59 frozenset({274, 453})\n",
            "60 frozenset({290, 279})\n",
            "61 frozenset({289, 335})\n",
            "62 frozenset({304, 343})\n",
            "63 frozenset({309, 310})\n",
            "64 frozenset({322, 396})\n",
            "65 frozenset({465, 339})\n",
            "66 frozenset({362, 420})\n",
            "67 frozenset({430, 367})\n",
            "68 frozenset({384, 439})\n",
            "69 frozenset({404, 431})\n",
            "70 frozenset({444, 414})\n",
            "71 frozenset({442, 426})\n"
          ],
          "name": "stdout"
        }
      ]
    },
    {
      "cell_type": "code",
      "metadata": {
        "colab": {
          "base_uri": "https://localhost:8080/",
          "height": 575
        },
        "id": "mqaK6rCb2e1h",
        "outputId": "2fde13e5-451b-4478-cd3f-e50dbe439452"
      },
      "source": [
        "modularity_dict = {}\n",
        "for i, c in enumerate(greedy_communities):\n",
        "  for name in c:\n",
        "    modularity_dict[name] = i\n",
        "\n",
        "pos = nx.spring_layout(G)\n",
        "node_size = []\n",
        "\n",
        "for node, community in modularity_dict.items():\n",
        "  if community == 10:\n",
        "    node_size.append(500)\n",
        "  else:\n",
        "    modularity_dict[node] =0\n",
        "    node_size.append(10)\n",
        "plt.figure(figsize=(10, 10))\n",
        "plt.axis('off')\n",
        "nodes = nx.draw_networkx_nodes(G, pos, node_size=node_size, cmap=plt.cm.RdYlBu, node_color=list(modularity_dict.values()))\n",
        "nx.draw_networkx_edges(G, pos, alpha=0.3)\n",
        "plt.show(G)"
      ],
      "execution_count": null,
      "outputs": [
        {
          "output_type": "display_data",
          "data": {
            "image/png": "[encoded data removed]",
            "text/plain": [
              "<Figure size 720x720 with 1 Axes>"
            ]
          },
          "metadata": {
            "tags": []
          }
        }
      ]
    },
    {
      "cell_type": "code",
      "metadata": {
        "colab": {
          "base_uri": "https://localhost:8080/",
          "height": 575
        },
        "id": "UhLIZCf74xpz",
        "outputId": "64b6493b-82e0-438a-f452-c48d1c704215"
      },
      "source": [
        "pos = nx.spring_layout(G)\n",
        "node_size = []\n",
        "\n",
        "for node, community in best_communities.items():\n",
        "  if community == 10:\n",
        "    node_size.append(500)\n",
        "  else:\n",
        "    best_communities[node] =0\n",
        "    node_size.append(10)\n",
        "plt.figure(figsize=(10, 10))\n",
        "plt.axis('off')\n",
        "nodes = nx.draw_networkx_nodes(G, pos, node_size=node_size, cmap=plt.cm.RdYlBu, node_color=list(modularity_dict.values()))\n",
        "nx.draw_networkx_edges(G, pos, alpha=0.3)\n",
        "plt.show(G)"
      ],
      "execution_count": null,
      "outputs": [
        {
          "output_type": "display_data",
          "data": {
            "image/png": "[encoded data removed]",
            "text/plain": [
              "<Figure size 720x720 with 1 Axes>"
            ]
          },
          "metadata": {
            "tags": []
          }
        }
      ]
    },
    {
      "cell_type": "code",
      "metadata": {
        "colab": {
          "base_uri": "https://localhost:8080/"
        },
        "id": "d_lXbdHY5fnf",
        "outputId": "19b574fc-5dca-4ee3-9224-37bd308da8ef"
      },
      "source": [
        "for i, c in enumerate(greedy_communities):\n",
        "  if len(c)>4:\n",
        "    print('Community: ' + str(i)+':', list(c))"
      ],
      "execution_count": null,
      "outputs": [
        {
          "output_type": "stream",
          "text": [
            "Community: 0: [448, 356, 164, 249, 201, 172, 174, 275, 246, 87, 153, 154, 349, 287]\n",
            "Community: 1: [449, 295, 263, 332, 333, 48, 49, 178, 345, 318, 415]\n",
            "Community: 2: [96, 129, 35, 302, 400, 118, 214, 253]\n",
            "Community: 3: [58, 276, 181, 57, 378, 189]\n",
            "Community: 4: [450, 387, 455, 340, 341, 347]\n",
            "Community: 5: [462, 86, 185, 190, 127]\n",
            "Community: 6: [325, 427, 460, 44, 242]\n"
          ],
          "name": "stdout"
        }
      ]
    },
    {
      "cell_type": "code",
      "metadata": {
        "id": "NUV9DXpp58YE"
      },
      "source": [
        "#for node, community in best_communities.items():\n",
        "#  if len(i)>4:\n",
        "#    print('Community: ' + str(i)+':', list(c))"
      ],
      "execution_count": null,
      "outputs": []
    },
    {
      "cell_type": "markdown",
      "metadata": {
        "id": "uszVgNmE6wdK"
      },
      "source": [
        "## Clique"
      ]
    },
    {
      "cell_type": "code",
      "metadata": {
        "colab": {
          "base_uri": "https://localhost:8080/"
        },
        "id": "25E1IKvM6qzv",
        "outputId": "65ceb571-19b4-4b99-fb49-2246dcd22409"
      },
      "source": [
        "all_cliques = nx.find_cliques(G)\n",
        "\n",
        "largest_clique = sorted(all_cliques, key=lambda x: len(x))[-1]\n",
        "\n",
        "largest_clique"
      ],
      "execution_count": null,
      "outputs": [
        {
          "output_type": "execute_result",
          "data": {
            "text/plain": [
              "[181, 378, 276, 189]"
            ]
          },
          "metadata": {
            "tags": []
          },
          "execution_count": 66
        }
      ]
    },
    {
      "cell_type": "markdown",
      "metadata": {
        "id": "kJFPoaAT7cq7"
      },
      "source": [
        "## Recommended Friends"
      ]
    },
    {
      "cell_type": "code",
      "metadata": {
        "colab": {
          "base_uri": "https://localhost:8080/"
        },
        "id": "1ieKrhYy7lQ9",
        "outputId": "3e8145c2-d7fb-47f9-99f7-a746718fd4a4"
      },
      "source": [
        "# Import necessary modules\n",
        "from itertools import combinations\n",
        "from collections import defaultdict\n",
        " \n",
        "# Initialize the defaultdict: recommended\n",
        "recommended = defaultdict(int)\n",
        " \n",
        "# Iterate over all the nodes in G\n",
        "for n, d in G.nodes(data = True):\n",
        " \n",
        "    # Iterate over all possible triangle relationship combinations\n",
        "    for n1, n2 in combinations(G.neighbors(n), 2):\n",
        "     \n",
        "        # Check whether n1 and n2 do not have an edge\n",
        "        if not G.has_edge(n1, n2):\n",
        "         \n",
        "            # Increment recommended\n",
        "            recommended[(n1, n2)] += 1\n",
        " \n",
        "# Identify the top 10 pairs of users\n",
        "all_counts = sorted(recommended.values())\n",
        "top10_pairs = [pair for pair, count in recommended.items() if count > all_counts[-10]]\n",
        "print(top10_pairs)"
      ],
      "execution_count": null,
      "outputs": [
        {
          "output_type": "stream",
          "text": [
            "[(182, 195), (49, 318), (49, 332), (154, 349), (153, 356), (154, 246), (354, 369)]\n"
          ],
          "name": "stdout"
        }
      ]
    },
    {
      "cell_type": "markdown",
      "metadata": {
        "id": "2nR5FLuL9Zvp"
      },
      "source": [
        "## Quakers Dataset"
      ]
    },
    {
      "cell_type": "code",
      "metadata": {
        "colab": {
          "base_uri": "https://localhost:8080/",
          "height": 204
        },
        "id": "TNGPWKXs9ccN",
        "outputId": "5f747602-1a3d-40f9-c9df-39b1f3be3084"
      },
      "source": [
        "nodelist_url = 'https://programminghistorian.org/assets/exploring-and-analyzing-network-data-with-python/quakers_nodelist.csv'\n",
        "node_df = pd.read_csv(nodelist_url)\n",
        "node_df.head()"
      ],
      "execution_count": null,
      "outputs": [
        {
          "output_type": "execute_result",
          "data": {
            "text/html": [
              "<div>\n",
              "<style scoped>\n",
              "    .dataframe tbody tr th:only-of-type {\n",
              "        vertical-align: middle;\n",
              "    }\n",
              "\n",
              "    .dataframe tbody tr th {\n",
              "        vertical-align: top;\n",
              "    }\n",
              "\n",
              "    .dataframe thead th {\n",
              "        text-align: right;\n",
              "    }\n",
              "</style>\n",
              "<table border=\"1\" class=\"dataframe\">\n",
              "  <thead>\n",
              "    <tr style=\"text-align: right;\">\n",
              "      <th></th>\n",
              "      <th>Name</th>\n",
              "      <th>Historical Significance</th>\n",
              "      <th>Gender</th>\n",
              "      <th>Birthdate</th>\n",
              "      <th>Deathdate</th>\n",
              "      <th>ID</th>\n",
              "    </tr>\n",
              "  </thead>\n",
              "  <tbody>\n",
              "    <tr>\n",
              "      <th>0</th>\n",
              "      <td>Joseph Wyeth</td>\n",
              "      <td>religious writer</td>\n",
              "      <td>male</td>\n",
              "      <td>1663</td>\n",
              "      <td>1731</td>\n",
              "      <td>10013191</td>\n",
              "    </tr>\n",
              "    <tr>\n",
              "      <th>1</th>\n",
              "      <td>Alexander Skene of Newtyle</td>\n",
              "      <td>local politician and author</td>\n",
              "      <td>male</td>\n",
              "      <td>1621</td>\n",
              "      <td>1694</td>\n",
              "      <td>10011149</td>\n",
              "    </tr>\n",
              "    <tr>\n",
              "      <th>2</th>\n",
              "      <td>James Logan</td>\n",
              "      <td>colonial official and scholar</td>\n",
              "      <td>male</td>\n",
              "      <td>1674</td>\n",
              "      <td>1751</td>\n",
              "      <td>10007567</td>\n",
              "    </tr>\n",
              "    <tr>\n",
              "      <th>3</th>\n",
              "      <td>Dorcas Erbery</td>\n",
              "      <td>Quaker preacher</td>\n",
              "      <td>female</td>\n",
              "      <td>1656</td>\n",
              "      <td>1659</td>\n",
              "      <td>10003983</td>\n",
              "    </tr>\n",
              "    <tr>\n",
              "      <th>4</th>\n",
              "      <td>Lilias Skene</td>\n",
              "      <td>Quaker preacher and poet</td>\n",
              "      <td>male</td>\n",
              "      <td>1626</td>\n",
              "      <td>1697</td>\n",
              "      <td>10011152</td>\n",
              "    </tr>\n",
              "  </tbody>\n",
              "</table>\n",
              "</div>"
            ],
            "text/plain": [
              "                         Name  ...        ID\n",
              "0                Joseph Wyeth  ...  10013191\n",
              "1  Alexander Skene of Newtyle  ...  10011149\n",
              "2                 James Logan  ...  10007567\n",
              "3               Dorcas Erbery  ...  10003983\n",
              "4                Lilias Skene  ...  10011152\n",
              "\n",
              "[5 rows x 6 columns]"
            ]
          },
          "metadata": {
            "tags": []
          },
          "execution_count": 68
        }
      ]
    },
    {
      "cell_type": "code",
      "metadata": {
        "colab": {
          "base_uri": "https://localhost:8080/",
          "height": 204
        },
        "id": "XKkzPDfL9qAh",
        "outputId": "30b00807-d856-49b0-c133-20abdaf22cf1"
      },
      "source": [
        "edge_url='https://programminghistorian.org/assets/exploring-and-analyzing-network-data-with-python/quakers_edgelist.csv'\n",
        "edge_df = pd.read_csv(edge_url)\n",
        "edge_df.head()"
      ],
      "execution_count": null,
      "outputs": [
        {
          "output_type": "execute_result",
          "data": {
            "text/html": [
              "<div>\n",
              "<style scoped>\n",
              "    .dataframe tbody tr th:only-of-type {\n",
              "        vertical-align: middle;\n",
              "    }\n",
              "\n",
              "    .dataframe tbody tr th {\n",
              "        vertical-align: top;\n",
              "    }\n",
              "\n",
              "    .dataframe thead th {\n",
              "        text-align: right;\n",
              "    }\n",
              "</style>\n",
              "<table border=\"1\" class=\"dataframe\">\n",
              "  <thead>\n",
              "    <tr style=\"text-align: right;\">\n",
              "      <th></th>\n",
              "      <th>Source</th>\n",
              "      <th>Target</th>\n",
              "    </tr>\n",
              "  </thead>\n",
              "  <tbody>\n",
              "    <tr>\n",
              "      <th>0</th>\n",
              "      <td>George Keith</td>\n",
              "      <td>Robert Barclay</td>\n",
              "    </tr>\n",
              "    <tr>\n",
              "      <th>1</th>\n",
              "      <td>George Keith</td>\n",
              "      <td>Benjamin Furly</td>\n",
              "    </tr>\n",
              "    <tr>\n",
              "      <th>2</th>\n",
              "      <td>George Keith</td>\n",
              "      <td>Anne Conway Viscountess Conway and Killultagh</td>\n",
              "    </tr>\n",
              "    <tr>\n",
              "      <th>3</th>\n",
              "      <td>George Keith</td>\n",
              "      <td>Franciscus Mercurius van Helmont</td>\n",
              "    </tr>\n",
              "    <tr>\n",
              "      <th>4</th>\n",
              "      <td>George Keith</td>\n",
              "      <td>William Penn</td>\n",
              "    </tr>\n",
              "  </tbody>\n",
              "</table>\n",
              "</div>"
            ],
            "text/plain": [
              "         Source                                         Target\n",
              "0  George Keith                                 Robert Barclay\n",
              "1  George Keith                                 Benjamin Furly\n",
              "2  George Keith  Anne Conway Viscountess Conway and Killultagh\n",
              "3  George Keith               Franciscus Mercurius van Helmont\n",
              "4  George Keith                                   William Penn"
            ]
          },
          "metadata": {
            "tags": []
          },
          "execution_count": 69
        }
      ]
    },
    {
      "cell_type": "code",
      "metadata": {
        "colab": {
          "base_uri": "https://localhost:8080/"
        },
        "id": "uYjr6TuV98Ey",
        "outputId": "7a1574fc-6b5e-4485-de7c-a31e2d7e810e"
      },
      "source": [
        "K = nx.from_pandas_edgelist(edge_df, source='Source', target='Target')\n",
        "print(nx.info(K))"
      ],
      "execution_count": null,
      "outputs": [
        {
          "output_type": "stream",
          "text": [
            "Name: \n",
            "Type: Graph\n",
            "Number of nodes: 119\n",
            "Number of edges: 174\n",
            "Average degree:   2.9244\n"
          ],
          "name": "stdout"
        }
      ]
    },
    {
      "cell_type": "code",
      "metadata": {
        "id": "YEopUZKN-Ui-"
      },
      "source": [
        "node_attr_dict = node_df.set_index('Name').to_dict('index')"
      ],
      "execution_count": null,
      "outputs": []
    },
    {
      "cell_type": "code",
      "metadata": {
        "id": "NOUHfQ_H-ehg"
      },
      "source": [
        "nx.set_node_attributes(K, node_attr_dict)"
      ],
      "execution_count": null,
      "outputs": []
    },
    {
      "cell_type": "code",
      "metadata": {
        "colab": {
          "base_uri": "https://localhost:8080/"
        },
        "id": "iIjKBoZJ-kcF",
        "outputId": "c0285338-dccd-4760-dda5-2bb35360a142"
      },
      "source": [
        "K.nodes['George Keith']"
      ],
      "execution_count": null,
      "outputs": [
        {
          "output_type": "execute_result",
          "data": {
            "text/plain": [
              "{'Birthdate': 1638,\n",
              " 'Deathdate': 1716,\n",
              " 'Gender': 'male',\n",
              " 'Historical Significance': 'Quaker schismatic and Church of England clergyman',\n",
              " 'ID': 10006784}"
            ]
          },
          "metadata": {
            "tags": []
          },
          "execution_count": 73
        }
      ]
    },
    {
      "cell_type": "code",
      "metadata": {
        "colab": {
          "base_uri": "https://localhost:8080/"
        },
        "id": "CVIwS8zz-zkI",
        "outputId": "e59fff5e-fd09-4fa4-999e-b22b46f9f521"
      },
      "source": [
        "betweenness_dict = dict(nx.betweenness_centrality(K))\n",
        "nx.set_node_attributes(K, betweenness_dict, 'betweenness')\n",
        "sorted_betweenness = sorted(betweenness_dict.items(), key=itemgetter(1), reverse=True)\n",
        "print(\"Top 10 nodes by betweenness:\")\n",
        "for d in sorted_betweenness[:10]:\n",
        "  print(d)"
      ],
      "execution_count": null,
      "outputs": [
        {
          "output_type": "stream",
          "text": [
            "Top 10 nodes by betweenness:\n",
            "('William Penn', 0.23999456006192194)\n",
            "('George Fox', 0.23683257726065213)\n",
            "('George Whitehead', 0.12632024847366005)\n",
            "('Margaret Fell', 0.12106792237170327)\n",
            "('James Nayler', 0.1044602628044609)\n",
            "('Benjamin Furly', 0.06419626175167245)\n",
            "('Thomas Ellwood', 0.04619062388510455)\n",
            "('George Keith', 0.04500656400917155)\n",
            "('John Audland', 0.041649363400775824)\n",
            "('Alexander Parker', 0.03893676140525336)\n"
          ],
          "name": "stdout"
        }
      ]
    },
    {
      "cell_type": "markdown",
      "metadata": {
        "id": "QoM0Ohp9_VVu"
      },
      "source": [
        "## Games of Thrones\n",
        "- https://github.com/mathbeveridge/asoiaf"
      ]
    },
    {
      "cell_type": "code",
      "metadata": {
        "colab": {
          "base_uri": "https://localhost:8080/",
          "height": 391
        },
        "id": "YuoHtMop_YCR",
        "outputId": "e5eb5730-70bd-438c-a1d6-1266375d1337"
      },
      "source": [
        "got_edge_df = pd.read_csv('dataset/asoiaf-all-edges.csv')\n",
        "got_edge_df.head()"
      ],
      "execution_count": null,
      "outputs": [
        {
          "output_type": "error",
          "ename": "FileNotFoundError",
          "evalue": "ignored",
          "traceback": [
            "\u001b[0;31m---------------------------------------------------------------------------\u001b[0m",
            "\u001b[0;31mFileNotFoundError\u001b[0m                         Traceback (most recent call last)",
            "\u001b[0;32m<ipython-input-75-f3bcb0ddc0d0>\u001b[0m in \u001b[0;36m<module>\u001b[0;34m()\u001b[0m\n\u001b[0;32m----> 1\u001b[0;31m \u001b[0mgot_edge_df\u001b[0m \u001b[0;34m=\u001b[0m \u001b[0mpd\u001b[0m\u001b[0;34m.\u001b[0m\u001b[0mread_csv\u001b[0m\u001b[0;34m(\u001b[0m\u001b[0;34m'dataset/asoiaf-all-edges.csv'\u001b[0m\u001b[0;34m)\u001b[0m\u001b[0;34m\u001b[0m\u001b[0;34m\u001b[0m\u001b[0m\n\u001b[0m\u001b[1;32m      2\u001b[0m \u001b[0mgot_edge_df\u001b[0m\u001b[0;34m.\u001b[0m\u001b[0mhead\u001b[0m\u001b[0;34m(\u001b[0m\u001b[0;34m)\u001b[0m\u001b[0;34m\u001b[0m\u001b[0;34m\u001b[0m\u001b[0m\n",
            "\u001b[0;32m/usr/local/lib/python3.7/dist-packages/pandas/io/parsers.py\u001b[0m in \u001b[0;36mread_csv\u001b[0;34m(filepath_or_buffer, sep, delimiter, header, names, index_col, usecols, squeeze, prefix, mangle_dupe_cols, dtype, engine, converters, true_values, false_values, skipinitialspace, skiprows, skipfooter, nrows, na_values, keep_default_na, na_filter, verbose, skip_blank_lines, parse_dates, infer_datetime_format, keep_date_col, date_parser, dayfirst, cache_dates, iterator, chunksize, compression, thousands, decimal, lineterminator, quotechar, quoting, doublequote, escapechar, comment, encoding, dialect, error_bad_lines, warn_bad_lines, delim_whitespace, low_memory, memory_map, float_precision)\u001b[0m\n\u001b[1;32m    686\u001b[0m     )\n\u001b[1;32m    687\u001b[0m \u001b[0;34m\u001b[0m\u001b[0m\n\u001b[0;32m--> 688\u001b[0;31m     \u001b[0;32mreturn\u001b[0m \u001b[0m_read\u001b[0m\u001b[0;34m(\u001b[0m\u001b[0mfilepath_or_buffer\u001b[0m\u001b[0;34m,\u001b[0m \u001b[0mkwds\u001b[0m\u001b[0;34m)\u001b[0m\u001b[0;34m\u001b[0m\u001b[0;34m\u001b[0m\u001b[0m\n\u001b[0m\u001b[1;32m    689\u001b[0m \u001b[0;34m\u001b[0m\u001b[0m\n\u001b[1;32m    690\u001b[0m \u001b[0;34m\u001b[0m\u001b[0m\n",
            "\u001b[0;32m/usr/local/lib/python3.7/dist-packages/pandas/io/parsers.py\u001b[0m in \u001b[0;36m_read\u001b[0;34m(filepath_or_buffer, kwds)\u001b[0m\n\u001b[1;32m    452\u001b[0m \u001b[0;34m\u001b[0m\u001b[0m\n\u001b[1;32m    453\u001b[0m     \u001b[0;31m# Create the parser.\u001b[0m\u001b[0;34m\u001b[0m\u001b[0;34m\u001b[0m\u001b[0;34m\u001b[0m\u001b[0m\n\u001b[0;32m--> 454\u001b[0;31m     \u001b[0mparser\u001b[0m \u001b[0;34m=\u001b[0m \u001b[0mTextFileReader\u001b[0m\u001b[0;34m(\u001b[0m\u001b[0mfp_or_buf\u001b[0m\u001b[0;34m,\u001b[0m \u001b[0;34m**\u001b[0m\u001b[0mkwds\u001b[0m\u001b[0;34m)\u001b[0m\u001b[0;34m\u001b[0m\u001b[0;34m\u001b[0m\u001b[0m\n\u001b[0m\u001b[1;32m    455\u001b[0m \u001b[0;34m\u001b[0m\u001b[0m\n\u001b[1;32m    456\u001b[0m     \u001b[0;32mif\u001b[0m \u001b[0mchunksize\u001b[0m \u001b[0;32mor\u001b[0m \u001b[0miterator\u001b[0m\u001b[0;34m:\u001b[0m\u001b[0;34m\u001b[0m\u001b[0;34m\u001b[0m\u001b[0m\n",
            "\u001b[0;32m/usr/local/lib/python3.7/dist-packages/pandas/io/parsers.py\u001b[0m in \u001b[0;36m__init__\u001b[0;34m(self, f, engine, **kwds)\u001b[0m\n\u001b[1;32m    946\u001b[0m             \u001b[0mself\u001b[0m\u001b[0;34m.\u001b[0m\u001b[0moptions\u001b[0m\u001b[0;34m[\u001b[0m\u001b[0;34m\"has_index_names\"\u001b[0m\u001b[0;34m]\u001b[0m \u001b[0;34m=\u001b[0m \u001b[0mkwds\u001b[0m\u001b[0;34m[\u001b[0m\u001b[0;34m\"has_index_names\"\u001b[0m\u001b[0;34m]\u001b[0m\u001b[0;34m\u001b[0m\u001b[0;34m\u001b[0m\u001b[0m\n\u001b[1;32m    947\u001b[0m \u001b[0;34m\u001b[0m\u001b[0m\n\u001b[0;32m--> 948\u001b[0;31m         \u001b[0mself\u001b[0m\u001b[0;34m.\u001b[0m\u001b[0m_make_engine\u001b[0m\u001b[0;34m(\u001b[0m\u001b[0mself\u001b[0m\u001b[0;34m.\u001b[0m\u001b[0mengine\u001b[0m\u001b[0;34m)\u001b[0m\u001b[0;34m\u001b[0m\u001b[0;34m\u001b[0m\u001b[0m\n\u001b[0m\u001b[1;32m    949\u001b[0m \u001b[0;34m\u001b[0m\u001b[0m\n\u001b[1;32m    950\u001b[0m     \u001b[0;32mdef\u001b[0m \u001b[0mclose\u001b[0m\u001b[0;34m(\u001b[0m\u001b[0mself\u001b[0m\u001b[0;34m)\u001b[0m\u001b[0;34m:\u001b[0m\u001b[0;34m\u001b[0m\u001b[0;34m\u001b[0m\u001b[0m\n",
            "\u001b[0;32m/usr/local/lib/python3.7/dist-packages/pandas/io/parsers.py\u001b[0m in \u001b[0;36m_make_engine\u001b[0;34m(self, engine)\u001b[0m\n\u001b[1;32m   1178\u001b[0m     \u001b[0;32mdef\u001b[0m \u001b[0m_make_engine\u001b[0m\u001b[0;34m(\u001b[0m\u001b[0mself\u001b[0m\u001b[0;34m,\u001b[0m \u001b[0mengine\u001b[0m\u001b[0;34m=\u001b[0m\u001b[0;34m\"c\"\u001b[0m\u001b[0;34m)\u001b[0m\u001b[0;34m:\u001b[0m\u001b[0;34m\u001b[0m\u001b[0;34m\u001b[0m\u001b[0m\n\u001b[1;32m   1179\u001b[0m         \u001b[0;32mif\u001b[0m \u001b[0mengine\u001b[0m \u001b[0;34m==\u001b[0m \u001b[0;34m\"c\"\u001b[0m\u001b[0;34m:\u001b[0m\u001b[0;34m\u001b[0m\u001b[0;34m\u001b[0m\u001b[0m\n\u001b[0;32m-> 1180\u001b[0;31m             \u001b[0mself\u001b[0m\u001b[0;34m.\u001b[0m\u001b[0m_engine\u001b[0m \u001b[0;34m=\u001b[0m \u001b[0mCParserWrapper\u001b[0m\u001b[0;34m(\u001b[0m\u001b[0mself\u001b[0m\u001b[0;34m.\u001b[0m\u001b[0mf\u001b[0m\u001b[0;34m,\u001b[0m \u001b[0;34m**\u001b[0m\u001b[0mself\u001b[0m\u001b[0;34m.\u001b[0m\u001b[0moptions\u001b[0m\u001b[0;34m)\u001b[0m\u001b[0;34m\u001b[0m\u001b[0;34m\u001b[0m\u001b[0m\n\u001b[0m\u001b[1;32m   1181\u001b[0m         \u001b[0;32melse\u001b[0m\u001b[0;34m:\u001b[0m\u001b[0;34m\u001b[0m\u001b[0;34m\u001b[0m\u001b[0m\n\u001b[1;32m   1182\u001b[0m             \u001b[0;32mif\u001b[0m \u001b[0mengine\u001b[0m \u001b[0;34m==\u001b[0m \u001b[0;34m\"python\"\u001b[0m\u001b[0;34m:\u001b[0m\u001b[0;34m\u001b[0m\u001b[0;34m\u001b[0m\u001b[0m\n",
            "\u001b[0;32m/usr/local/lib/python3.7/dist-packages/pandas/io/parsers.py\u001b[0m in \u001b[0;36m__init__\u001b[0;34m(self, src, **kwds)\u001b[0m\n\u001b[1;32m   2008\u001b[0m         \u001b[0mkwds\u001b[0m\u001b[0;34m[\u001b[0m\u001b[0;34m\"usecols\"\u001b[0m\u001b[0;34m]\u001b[0m \u001b[0;34m=\u001b[0m \u001b[0mself\u001b[0m\u001b[0;34m.\u001b[0m\u001b[0musecols\u001b[0m\u001b[0;34m\u001b[0m\u001b[0;34m\u001b[0m\u001b[0m\n\u001b[1;32m   2009\u001b[0m \u001b[0;34m\u001b[0m\u001b[0m\n\u001b[0;32m-> 2010\u001b[0;31m         \u001b[0mself\u001b[0m\u001b[0;34m.\u001b[0m\u001b[0m_reader\u001b[0m \u001b[0;34m=\u001b[0m \u001b[0mparsers\u001b[0m\u001b[0;34m.\u001b[0m\u001b[0mTextReader\u001b[0m\u001b[0;34m(\u001b[0m\u001b[0msrc\u001b[0m\u001b[0;34m,\u001b[0m \u001b[0;34m**\u001b[0m\u001b[0mkwds\u001b[0m\u001b[0;34m)\u001b[0m\u001b[0;34m\u001b[0m\u001b[0;34m\u001b[0m\u001b[0m\n\u001b[0m\u001b[1;32m   2011\u001b[0m         \u001b[0mself\u001b[0m\u001b[0;34m.\u001b[0m\u001b[0munnamed_cols\u001b[0m \u001b[0;34m=\u001b[0m \u001b[0mself\u001b[0m\u001b[0;34m.\u001b[0m\u001b[0m_reader\u001b[0m\u001b[0;34m.\u001b[0m\u001b[0munnamed_cols\u001b[0m\u001b[0;34m\u001b[0m\u001b[0;34m\u001b[0m\u001b[0m\n\u001b[1;32m   2012\u001b[0m \u001b[0;34m\u001b[0m\u001b[0m\n",
            "\u001b[0;32mpandas/_libs/parsers.pyx\u001b[0m in \u001b[0;36mpandas._libs.parsers.TextReader.__cinit__\u001b[0;34m()\u001b[0m\n",
            "\u001b[0;32mpandas/_libs/parsers.pyx\u001b[0m in \u001b[0;36mpandas._libs.parsers.TextReader._setup_parser_source\u001b[0;34m()\u001b[0m\n",
            "\u001b[0;31mFileNotFoundError\u001b[0m: [Errno 2] No such file or directory: 'dataset/asoiaf-all-edges.csv'"
          ]
        }
      ]
    },
    {
      "cell_type": "code",
      "metadata": {
        "id": "0FmURqshAOxm"
      },
      "source": [
        "got_node_df = pd.read_csv('dataset/asoiaf-all-nodes.csv')\n",
        "got_node_df.head()"
      ],
      "execution_count": null,
      "outputs": []
    }
  ]
}